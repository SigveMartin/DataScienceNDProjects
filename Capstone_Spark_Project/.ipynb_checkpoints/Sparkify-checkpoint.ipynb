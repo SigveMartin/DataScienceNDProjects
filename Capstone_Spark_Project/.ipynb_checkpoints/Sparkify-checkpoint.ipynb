{
 "cells": [
  {
   "cell_type": "markdown",
   "metadata": {},
   "source": [
    "# Sparkify Project Workspace\n",
    "This workspace contains a tiny subset (128MB) of the full dataset available (12GB). Feel free to use this workspace to build your project, or to explore a smaller subset with Spark before deploying your cluster on the cloud. Instructions for setting up your Spark cluster is included in the last lesson of the Extracurricular Spark Course content.\n",
    "\n",
    "You can follow the steps below to guide your data analysis and model building portion of this project."
   ]
  },
  {
   "cell_type": "code",
   "execution_count": 422,
   "metadata": {},
   "outputs": [],
   "source": [
    "# import libraries\n",
    "from pyspark.sql import SparkSession\n",
    "from pyspark.sql import functions as F\n",
    "from pyspark.sql import types as T\n",
    "from pyspark.sql.window import Window\n",
    "\n",
    "from pyspark.ml.feature import VectorAssembler, StandardScaler\n",
    "from pyspark.ml import Pipeline\n",
    "from pyspark.ml.classification import LogisticRegression, DecisionTreeClassifier, RandomForestClassifier\n",
    "from pyspark.ml.tuning import CrossValidator, ParamGridBuilder\n",
    "from pyspark.ml.evaluation import BinaryClassificationEvaluator\n",
    "\n",
    "import datetime\n",
    "\n",
    "import numpy as np\n",
    "import pandas as pd\n",
    "%matplotlib inline\n",
    "import matplotlib.pyplot as plt"
   ]
  },
  {
   "cell_type": "code",
   "execution_count": 293,
   "metadata": {},
   "outputs": [],
   "source": [
    "# create a Spark session\n",
    "spark = SparkSession \\\n",
    "    .builder \\\n",
    "    .appName(\"Capstone Data Science\") \\\n",
    "    .getOrCreate()"
   ]
  },
  {
   "cell_type": "markdown",
   "metadata": {},
   "source": [
    "# Load and Clean Dataset\n",
    "In this workspace, the mini-dataset file is `mini_sparkify_event_data.json`. Load and clean the dataset, checking for invalid or missing data - for example, records without userids or sessionids. "
   ]
  },
  {
   "cell_type": "code",
   "execution_count": 332,
   "metadata": {},
   "outputs": [],
   "source": [
    "df = spark.read.json(\"../../mini_sparkify_event_data.json\")"
   ]
  },
  {
   "cell_type": "markdown",
   "metadata": {},
   "source": [
    "# Exploratory Data Analysis\n",
    "When you're working with the full dataset, perform EDA by loading a small subset of the data and doing basic manipulations within Spark. In this workspace, you are already provided a small subset of data you can explore.\n",
    "\n",
    "### Define Churn\n",
    "\n",
    "Once you've done some preliminary analysis, create a column `Churn` to use as the label for your model. I suggest using the `Cancellation Confirmation` events to define your churn, which happen for both paid and free users. As a bonus task, you can also look into the `Downgrade` events.\n",
    "\n",
    "### Explore Data\n",
    "Once you've defined churn, perform some exploratory data analysis to observe the behavior for users who stayed vs users who churned. You can start by exploring aggregates on these two groups of users, observing how much of a specific action they experienced per a certain time unit or number of songs played."
   ]
  },
  {
   "cell_type": "code",
   "execution_count": 333,
   "metadata": {},
   "outputs": [
    {
     "data": {
      "text/plain": [
       "[Row(artist='Martha Tilston', auth='Logged In', firstName='Colin', gender='M', itemInSession=50, lastName='Freeman', length=277.89016, level='paid', location='Bakersfield, CA', method='PUT', page='NextSong', registration=1538173362000, sessionId=29, song='Rockpools', status=200, ts=1538352117000, userAgent='Mozilla/5.0 (Windows NT 6.1; WOW64; rv:31.0) Gecko/20100101 Firefox/31.0', userId='30')]"
      ]
     },
     "execution_count": 333,
     "metadata": {},
     "output_type": "execute_result"
    }
   ],
   "source": [
    "df.take(1)"
   ]
  },
  {
   "cell_type": "code",
   "execution_count": 334,
   "metadata": {},
   "outputs": [
    {
     "name": "stdout",
     "output_type": "stream",
     "text": [
      "root\n",
      " |-- artist: string (nullable = true)\n",
      " |-- auth: string (nullable = true)\n",
      " |-- firstName: string (nullable = true)\n",
      " |-- gender: string (nullable = true)\n",
      " |-- itemInSession: long (nullable = true)\n",
      " |-- lastName: string (nullable = true)\n",
      " |-- length: double (nullable = true)\n",
      " |-- level: string (nullable = true)\n",
      " |-- location: string (nullable = true)\n",
      " |-- method: string (nullable = true)\n",
      " |-- page: string (nullable = true)\n",
      " |-- registration: long (nullable = true)\n",
      " |-- sessionId: long (nullable = true)\n",
      " |-- song: string (nullable = true)\n",
      " |-- status: long (nullable = true)\n",
      " |-- ts: long (nullable = true)\n",
      " |-- userAgent: string (nullable = true)\n",
      " |-- userId: string (nullable = true)\n",
      "\n"
     ]
    }
   ],
   "source": [
    "# Print out the data schema \n",
    "df.printSchema()"
   ]
  },
  {
   "cell_type": "code",
   "execution_count": 335,
   "metadata": {},
   "outputs": [
    {
     "data": {
      "text/html": [
       "<div>\n",
       "<style scoped>\n",
       "    .dataframe tbody tr th:only-of-type {\n",
       "        vertical-align: middle;\n",
       "    }\n",
       "\n",
       "    .dataframe tbody tr th {\n",
       "        vertical-align: top;\n",
       "    }\n",
       "\n",
       "    .dataframe thead th {\n",
       "        text-align: right;\n",
       "    }\n",
       "</style>\n",
       "<table border=\"1\" class=\"dataframe\">\n",
       "  <thead>\n",
       "    <tr style=\"text-align: right;\">\n",
       "      <th></th>\n",
       "      <th>summary</th>\n",
       "      <th>artist</th>\n",
       "      <th>auth</th>\n",
       "      <th>firstName</th>\n",
       "      <th>gender</th>\n",
       "      <th>itemInSession</th>\n",
       "      <th>lastName</th>\n",
       "      <th>length</th>\n",
       "      <th>level</th>\n",
       "      <th>location</th>\n",
       "      <th>method</th>\n",
       "      <th>page</th>\n",
       "      <th>registration</th>\n",
       "      <th>sessionId</th>\n",
       "      <th>song</th>\n",
       "      <th>status</th>\n",
       "      <th>ts</th>\n",
       "      <th>userAgent</th>\n",
       "      <th>userId</th>\n",
       "    </tr>\n",
       "  </thead>\n",
       "  <tbody>\n",
       "    <tr>\n",
       "      <th>0</th>\n",
       "      <td>count</td>\n",
       "      <td>228108</td>\n",
       "      <td>286500</td>\n",
       "      <td>278154</td>\n",
       "      <td>278154</td>\n",
       "      <td>286500</td>\n",
       "      <td>278154</td>\n",
       "      <td>228108</td>\n",
       "      <td>286500</td>\n",
       "      <td>278154</td>\n",
       "      <td>286500</td>\n",
       "      <td>286500</td>\n",
       "      <td>278154</td>\n",
       "      <td>286500</td>\n",
       "      <td>228108</td>\n",
       "      <td>286500</td>\n",
       "      <td>286500</td>\n",
       "      <td>278154</td>\n",
       "      <td>286500</td>\n",
       "    </tr>\n",
       "    <tr>\n",
       "      <th>1</th>\n",
       "      <td>mean</td>\n",
       "      <td>551.0852017937219</td>\n",
       "      <td>None</td>\n",
       "      <td>None</td>\n",
       "      <td>None</td>\n",
       "      <td>114.41421291448516</td>\n",
       "      <td>None</td>\n",
       "      <td>249.11718197783583</td>\n",
       "      <td>None</td>\n",
       "      <td>None</td>\n",
       "      <td>None</td>\n",
       "      <td>None</td>\n",
       "      <td>1.5353588340856191E12</td>\n",
       "      <td>1041.526554973822</td>\n",
       "      <td>Infinity</td>\n",
       "      <td>210.05459685863875</td>\n",
       "      <td>1.5409568898103945E12</td>\n",
       "      <td>None</td>\n",
       "      <td>59682.02278593872</td>\n",
       "    </tr>\n",
       "    <tr>\n",
       "      <th>2</th>\n",
       "      <td>stddev</td>\n",
       "      <td>1217.7693079161377</td>\n",
       "      <td>None</td>\n",
       "      <td>None</td>\n",
       "      <td>None</td>\n",
       "      <td>129.7672620114106</td>\n",
       "      <td>None</td>\n",
       "      <td>99.23517921058313</td>\n",
       "      <td>None</td>\n",
       "      <td>None</td>\n",
       "      <td>None</td>\n",
       "      <td>None</td>\n",
       "      <td>3.2913216163281236E9</td>\n",
       "      <td>726.7762634630807</td>\n",
       "      <td>NaN</td>\n",
       "      <td>31.505078488421987</td>\n",
       "      <td>1.50754396082106E9</td>\n",
       "      <td>None</td>\n",
       "      <td>109091.94999910559</td>\n",
       "    </tr>\n",
       "    <tr>\n",
       "      <th>3</th>\n",
       "      <td>min</td>\n",
       "      <td>!!!</td>\n",
       "      <td>Cancelled</td>\n",
       "      <td>Adelaida</td>\n",
       "      <td>F</td>\n",
       "      <td>0</td>\n",
       "      <td>Adams</td>\n",
       "      <td>0.78322</td>\n",
       "      <td>free</td>\n",
       "      <td>Albany, OR</td>\n",
       "      <td>GET</td>\n",
       "      <td>About</td>\n",
       "      <td>1521380675000</td>\n",
       "      <td>1</td>\n",
       "      <td>ÃÂg ÃÂtti GrÃÂ¡a ÃÂsku</td>\n",
       "      <td>200</td>\n",
       "      <td>1538352117000</td>\n",
       "      <td>\"Mozilla/5.0 (Macintosh; Intel Mac OS X 10_10)...</td>\n",
       "      <td></td>\n",
       "    </tr>\n",
       "    <tr>\n",
       "      <th>4</th>\n",
       "      <td>max</td>\n",
       "      <td>ÃÂlafur Arnalds</td>\n",
       "      <td>Logged Out</td>\n",
       "      <td>Zyonna</td>\n",
       "      <td>M</td>\n",
       "      <td>1321</td>\n",
       "      <td>Wright</td>\n",
       "      <td>3024.66567</td>\n",
       "      <td>paid</td>\n",
       "      <td>Winston-Salem, NC</td>\n",
       "      <td>PUT</td>\n",
       "      <td>Upgrade</td>\n",
       "      <td>1543247354000</td>\n",
       "      <td>2474</td>\n",
       "      <td>ÃÂau hafa sloppiÃÂ° undan ÃÂ¾unga myrkursins</td>\n",
       "      <td>404</td>\n",
       "      <td>1543799476000</td>\n",
       "      <td>Mozilla/5.0 (compatible; MSIE 9.0; Windows NT ...</td>\n",
       "      <td>99</td>\n",
       "    </tr>\n",
       "  </tbody>\n",
       "</table>\n",
       "</div>"
      ],
      "text/plain": [
       "  summary              artist        auth firstName  gender  \\\n",
       "0   count              228108      286500    278154  278154   \n",
       "1    mean   551.0852017937219        None      None    None   \n",
       "2  stddev  1217.7693079161377        None      None    None   \n",
       "3     min                 !!!   Cancelled  Adelaida       F   \n",
       "4     max   ÃÂlafur Arnalds  Logged Out    Zyonna       M   \n",
       "\n",
       "        itemInSession lastName              length   level           location  \\\n",
       "0              286500   278154              228108  286500             278154   \n",
       "1  114.41421291448516     None  249.11718197783583    None               None   \n",
       "2   129.7672620114106     None   99.23517921058313    None               None   \n",
       "3                   0    Adams             0.78322    free         Albany, OR   \n",
       "4                1321   Wright          3024.66567    paid  Winston-Salem, NC   \n",
       "\n",
       "   method     page           registration          sessionId  \\\n",
       "0  286500   286500                 278154             286500   \n",
       "1    None     None  1.5353588340856191E12  1041.526554973822   \n",
       "2    None     None   3.2913216163281236E9  726.7762634630807   \n",
       "3     GET    About          1521380675000                  1   \n",
       "4     PUT  Upgrade          1543247354000               2474   \n",
       "\n",
       "                                               song              status  \\\n",
       "0                                            228108              286500   \n",
       "1                                          Infinity  210.05459685863875   \n",
       "2                                               NaN  31.505078488421987   \n",
       "3                    \n",
       "ÃÂg ÃÂtti GrÃÂ¡a ÃÂsku                 200   \n",
       "4  ÃÂau hafa sloppiÃÂ° undan ÃÂ¾unga myrkursins                 404   \n",
       "\n",
       "                      ts                                          userAgent  \\\n",
       "0                 286500                                             278154   \n",
       "1  1.5409568898103945E12                                               None   \n",
       "2     1.50754396082106E9                                               None   \n",
       "3          1538352117000  \"Mozilla/5.0 (Macintosh; Intel Mac OS X 10_10)...   \n",
       "4          1543799476000  Mozilla/5.0 (compatible; MSIE 9.0; Windows NT ...   \n",
       "\n",
       "               userId  \n",
       "0              286500  \n",
       "1   59682.02278593872  \n",
       "2  109091.94999910559  \n",
       "3                      \n",
       "4                  99  "
      ]
     },
     "execution_count": 335,
     "metadata": {},
     "output_type": "execute_result"
    }
   ],
   "source": [
    "# Display each features statistics \n",
    "df.describe().toPandas()"
   ]
  },
  {
   "cell_type": "code",
   "execution_count": 336,
   "metadata": {},
   "outputs": [
    {
     "data": {
      "text/plain": [
       "286500"
      ]
     },
     "execution_count": 336,
     "metadata": {},
     "output_type": "execute_result"
    }
   ],
   "source": [
    "## Drop rows with missing values for userID and SessionID\n",
    "df = df.dropna(how = \"any\", subset = [\"userId\", \"sessionId\"])\n",
    "df.count()"
   ]
  },
  {
   "cell_type": "code",
   "execution_count": 337,
   "metadata": {},
   "outputs": [
    {
     "name": "stdout",
     "output_type": "stream",
     "text": [
      "+------+\n",
      "|userId|\n",
      "+------+\n",
      "|      |\n",
      "|    10|\n",
      "|   100|\n",
      "|100001|\n",
      "|100002|\n",
      "|100003|\n",
      "|100004|\n",
      "|100005|\n",
      "|100006|\n",
      "|100007|\n",
      "|100008|\n",
      "|100009|\n",
      "|100010|\n",
      "|100011|\n",
      "|100012|\n",
      "|100013|\n",
      "|100014|\n",
      "|100015|\n",
      "|100016|\n",
      "|100017|\n",
      "+------+\n",
      "only showing top 20 rows\n",
      "\n"
     ]
    }
   ],
   "source": [
    "# Because of unregistered users, we have blank userIds \n",
    "df.select(\"userId\").dropDuplicates().sort(\"userId\").show()"
   ]
  },
  {
   "cell_type": "code",
   "execution_count": 338,
   "metadata": {},
   "outputs": [],
   "source": [
    "## Only look at valid users \n",
    "df = df.filter(df[\"userId\"] != \"\")"
   ]
  },
  {
   "cell_type": "code",
   "execution_count": 339,
   "metadata": {},
   "outputs": [
    {
     "data": {
      "text/plain": [
       "278154"
      ]
     },
     "execution_count": 339,
     "metadata": {},
     "output_type": "execute_result"
    }
   ],
   "source": [
    "# New size of data set without unregistered users\n",
    "df.count()"
   ]
  },
  {
   "cell_type": "code",
   "execution_count": 340,
   "metadata": {},
   "outputs": [
    {
     "data": {
      "text/plain": [
       "225"
      ]
     },
     "execution_count": 340,
     "metadata": {},
     "output_type": "execute_result"
    }
   ],
   "source": [
    "# Number of unique users \n",
    "df.select(\"userId\").dropDuplicates().count()"
   ]
  },
  {
   "cell_type": "code",
   "execution_count": 341,
   "metadata": {},
   "outputs": [
    {
     "name": "stdout",
     "output_type": "stream",
     "text": [
      "+--------------------+\n",
      "|                page|\n",
      "+--------------------+\n",
      "|              Cancel|\n",
      "|    Submit Downgrade|\n",
      "|         Thumbs Down|\n",
      "|                Home|\n",
      "|           Downgrade|\n",
      "|         Roll Advert|\n",
      "|              Logout|\n",
      "|       Save Settings|\n",
      "|Cancellation Conf...|\n",
      "|               About|\n",
      "|            Settings|\n",
      "|     Add to Playlist|\n",
      "|          Add Friend|\n",
      "|            NextSong|\n",
      "|           Thumbs Up|\n",
      "|                Help|\n",
      "|             Upgrade|\n",
      "|               Error|\n",
      "|      Submit Upgrade|\n",
      "+--------------------+\n",
      "\n"
     ]
    }
   ],
   "source": [
    "# Get all unique pages of the app\n",
    "all_pages = df.select(\"page\").dropDuplicates()\n",
    "all_pages.show()"
   ]
  },
  {
   "cell_type": "code",
   "execution_count": 342,
   "metadata": {},
   "outputs": [
    {
     "name": "stdout",
     "output_type": "stream",
     "text": [
      "+------+-----+\n",
      "|gender|count|\n",
      "+------+-----+\n",
      "|     F|  104|\n",
      "|     M|  121|\n",
      "+------+-----+\n",
      "\n"
     ]
    }
   ],
   "source": [
    "## The number of male vs female users \n",
    "df.select(\"userId\",\"gender\").dropDuplicates().groupBy(\"gender\").count().show()"
   ]
  },
  {
   "cell_type": "code",
   "execution_count": 343,
   "metadata": {},
   "outputs": [
    {
     "name": "stdout",
     "output_type": "stream",
     "text": [
      "+-----+-----+\n",
      "|level|count|\n",
      "+-----+-----+\n",
      "| free|  195|\n",
      "| paid|  165|\n",
      "+-----+-----+\n",
      "\n"
     ]
    }
   ],
   "source": [
    "## The number of paid vs free plan users \n",
    "df.select(\"userId\",\"level\").dropDuplicates().groupBy(\"level\").count().show()"
   ]
  },
  {
   "cell_type": "markdown",
   "metadata": {},
   "source": [
    "### Changing timesrepresentation from milliseconds to seconds (date time)\n",
    "Both registration and ts is represented in milliseconds in the data set. In order to be able to use standard date time functions we need them in datetime. "
   ]
  },
  {
   "cell_type": "code",
   "execution_count": 344,
   "metadata": {},
   "outputs": [
    {
     "name": "stdout",
     "output_type": "stream",
     "text": [
      "+-------------+\n",
      "| registration|\n",
      "+-------------+\n",
      "|1538173362000|\n",
      "|1538331630000|\n",
      "|1538173362000|\n",
      "|1538331630000|\n",
      "|1538173362000|\n",
      "|1538331630000|\n",
      "|1538331630000|\n",
      "|1538173362000|\n",
      "|1538173362000|\n",
      "|1538173362000|\n",
      "|1538331630000|\n",
      "|1538331630000|\n",
      "|1538173362000|\n",
      "|1538331630000|\n",
      "|1538331630000|\n",
      "|1538173362000|\n",
      "|1538331630000|\n",
      "|1537365219000|\n",
      "|1538173362000|\n",
      "|1538331630000|\n",
      "+-------------+\n",
      "only showing top 20 rows\n",
      "\n"
     ]
    }
   ],
   "source": [
    "## Need to convert registration and ts -- as they are using time stamps in ms\n",
    "df.select(\"registration\").show()"
   ]
  },
  {
   "cell_type": "code",
   "execution_count": 345,
   "metadata": {},
   "outputs": [
    {
     "name": "stdout",
     "output_type": "stream",
     "text": [
      "+-------------------+\n",
      "|         registered|\n",
      "+-------------------+\n",
      "|2018-09-29 00:22:42|\n",
      "|2018-09-30 20:20:30|\n",
      "|2018-09-29 00:22:42|\n",
      "|2018-09-30 20:20:30|\n",
      "|2018-09-29 00:22:42|\n",
      "|2018-09-30 20:20:30|\n",
      "|2018-09-30 20:20:30|\n",
      "|2018-09-29 00:22:42|\n",
      "|2018-09-29 00:22:42|\n",
      "|2018-09-29 00:22:42|\n",
      "|2018-09-30 20:20:30|\n",
      "|2018-09-30 20:20:30|\n",
      "|2018-09-29 00:22:42|\n",
      "|2018-09-30 20:20:30|\n",
      "|2018-09-30 20:20:30|\n",
      "|2018-09-29 00:22:42|\n",
      "|2018-09-30 20:20:30|\n",
      "|2018-09-19 15:53:39|\n",
      "|2018-09-29 00:22:42|\n",
      "|2018-09-30 20:20:30|\n",
      "+-------------------+\n",
      "only showing top 20 rows\n",
      "\n"
     ]
    }
   ],
   "source": [
    "# Registration --> registered (dt)\n",
    "df = df.withColumn(\"registered\",(F.col(\"registration\")/1000).cast(T.TimestampType()))\n",
    "df.select(\"registered\").show()"
   ]
  },
  {
   "cell_type": "code",
   "execution_count": 346,
   "metadata": {},
   "outputs": [
    {
     "name": "stdout",
     "output_type": "stream",
     "text": [
      "+-------------------+\n",
      "|          timestamp|\n",
      "+-------------------+\n",
      "|2018-10-01 02:01:57|\n",
      "|2018-10-01 02:03:00|\n",
      "|2018-10-01 02:06:34|\n",
      "|2018-10-01 02:06:56|\n",
      "|2018-10-01 02:11:16|\n",
      "|2018-10-01 02:11:18|\n",
      "|2018-10-01 02:14:46|\n",
      "|2018-10-01 02:14:59|\n",
      "|2018-10-01 02:15:05|\n",
      "|2018-10-01 02:18:04|\n",
      "|2018-10-01 02:19:06|\n",
      "|2018-10-01 02:19:10|\n",
      "|2018-10-01 02:20:18|\n",
      "|2018-10-01 02:22:55|\n",
      "|2018-10-01 02:22:56|\n",
      "|2018-10-01 02:24:01|\n",
      "|2018-10-01 02:26:16|\n",
      "|2018-10-01 02:27:48|\n",
      "|2018-10-01 02:28:07|\n",
      "|2018-10-01 02:29:04|\n",
      "+-------------------+\n",
      "only showing top 20 rows\n",
      "\n"
     ]
    }
   ],
   "source": [
    "# ts as timestamp (dt)\n",
    "df = df.withColumn(\"timestamp\",(F.col(\"ts\")/1000).cast(T.TimestampType()))\n",
    "df.select(\"timestamp\").show()"
   ]
  },
  {
   "cell_type": "code",
   "execution_count": 347,
   "metadata": {},
   "outputs": [
    {
     "data": {
      "text/plain": [
       "[Row(userId='30'),\n",
       " Row(userId='9'),\n",
       " Row(userId='30'),\n",
       " Row(userId='9'),\n",
       " Row(userId='30')]"
      ]
     },
     "execution_count": 347,
     "metadata": {},
     "output_type": "execute_result"
    }
   ],
   "source": [
    "df.select(\"userId\").take(5)"
   ]
  },
  {
   "cell_type": "code",
   "execution_count": 348,
   "metadata": {},
   "outputs": [
    {
     "data": {
      "text/html": [
       "<div>\n",
       "<style scoped>\n",
       "    .dataframe tbody tr th:only-of-type {\n",
       "        vertical-align: middle;\n",
       "    }\n",
       "\n",
       "    .dataframe tbody tr th {\n",
       "        vertical-align: top;\n",
       "    }\n",
       "\n",
       "    .dataframe thead th {\n",
       "        text-align: right;\n",
       "    }\n",
       "</style>\n",
       "<table border=\"1\" class=\"dataframe\">\n",
       "  <thead>\n",
       "    <tr style=\"text-align: right;\">\n",
       "      <th></th>\n",
       "      <th>userId</th>\n",
       "      <th>page</th>\n",
       "      <th>registered</th>\n",
       "      <th>timestamp</th>\n",
       "    </tr>\n",
       "  </thead>\n",
       "  <tbody>\n",
       "    <tr>\n",
       "      <th>0</th>\n",
       "      <td>30</td>\n",
       "      <td>NextSong</td>\n",
       "      <td>2018-09-29 00:22:42</td>\n",
       "      <td>2018-10-01 02:01:57</td>\n",
       "    </tr>\n",
       "    <tr>\n",
       "      <th>1</th>\n",
       "      <td>30</td>\n",
       "      <td>NextSong</td>\n",
       "      <td>2018-09-29 00:22:42</td>\n",
       "      <td>2018-10-01 02:06:34</td>\n",
       "    </tr>\n",
       "    <tr>\n",
       "      <th>2</th>\n",
       "      <td>30</td>\n",
       "      <td>NextSong</td>\n",
       "      <td>2018-09-29 00:22:42</td>\n",
       "      <td>2018-10-01 02:11:16</td>\n",
       "    </tr>\n",
       "    <tr>\n",
       "      <th>3</th>\n",
       "      <td>30</td>\n",
       "      <td>NextSong</td>\n",
       "      <td>2018-09-29 00:22:42</td>\n",
       "      <td>2018-10-01 02:14:59</td>\n",
       "    </tr>\n",
       "    <tr>\n",
       "      <th>4</th>\n",
       "      <td>30</td>\n",
       "      <td>Add to Playlist</td>\n",
       "      <td>2018-09-29 00:22:42</td>\n",
       "      <td>2018-10-01 02:15:05</td>\n",
       "    </tr>\n",
       "    <tr>\n",
       "      <th>5</th>\n",
       "      <td>30</td>\n",
       "      <td>NextSong</td>\n",
       "      <td>2018-09-29 00:22:42</td>\n",
       "      <td>2018-10-01 02:18:04</td>\n",
       "    </tr>\n",
       "    <tr>\n",
       "      <th>6</th>\n",
       "      <td>30</td>\n",
       "      <td>NextSong</td>\n",
       "      <td>2018-09-29 00:22:42</td>\n",
       "      <td>2018-10-01 02:20:18</td>\n",
       "    </tr>\n",
       "    <tr>\n",
       "      <th>7</th>\n",
       "      <td>30</td>\n",
       "      <td>NextSong</td>\n",
       "      <td>2018-09-29 00:22:42</td>\n",
       "      <td>2018-10-01 02:24:01</td>\n",
       "    </tr>\n",
       "    <tr>\n",
       "      <th>8</th>\n",
       "      <td>30</td>\n",
       "      <td>NextSong</td>\n",
       "      <td>2018-09-29 00:22:42</td>\n",
       "      <td>2018-10-01 02:28:07</td>\n",
       "    </tr>\n",
       "    <tr>\n",
       "      <th>9</th>\n",
       "      <td>30</td>\n",
       "      <td>NextSong</td>\n",
       "      <td>2018-09-29 00:22:42</td>\n",
       "      <td>2018-10-01 02:31:49</td>\n",
       "    </tr>\n",
       "    <tr>\n",
       "      <th>10</th>\n",
       "      <td>30</td>\n",
       "      <td>NextSong</td>\n",
       "      <td>2018-09-29 00:22:42</td>\n",
       "      <td>2018-10-01 02:35:32</td>\n",
       "    </tr>\n",
       "    <tr>\n",
       "      <th>11</th>\n",
       "      <td>30</td>\n",
       "      <td>NextSong</td>\n",
       "      <td>2018-09-29 00:22:42</td>\n",
       "      <td>2018-10-01 02:39:25</td>\n",
       "    </tr>\n",
       "    <tr>\n",
       "      <th>12</th>\n",
       "      <td>30</td>\n",
       "      <td>NextSong</td>\n",
       "      <td>2018-09-29 00:22:42</td>\n",
       "      <td>2018-10-01 02:43:04</td>\n",
       "    </tr>\n",
       "    <tr>\n",
       "      <th>13</th>\n",
       "      <td>30</td>\n",
       "      <td>NextSong</td>\n",
       "      <td>2018-09-29 00:22:42</td>\n",
       "      <td>2018-10-01 02:46:46</td>\n",
       "    </tr>\n",
       "    <tr>\n",
       "      <th>14</th>\n",
       "      <td>30</td>\n",
       "      <td>NextSong</td>\n",
       "      <td>2018-09-29 00:22:42</td>\n",
       "      <td>2018-10-01 02:49:05</td>\n",
       "    </tr>\n",
       "    <tr>\n",
       "      <th>15</th>\n",
       "      <td>30</td>\n",
       "      <td>NextSong</td>\n",
       "      <td>2018-09-29 00:22:42</td>\n",
       "      <td>2018-10-01 02:54:16</td>\n",
       "    </tr>\n",
       "    <tr>\n",
       "      <th>16</th>\n",
       "      <td>30</td>\n",
       "      <td>NextSong</td>\n",
       "      <td>2018-09-29 00:22:42</td>\n",
       "      <td>2018-10-01 02:57:53</td>\n",
       "    </tr>\n",
       "    <tr>\n",
       "      <th>17</th>\n",
       "      <td>30</td>\n",
       "      <td>NextSong</td>\n",
       "      <td>2018-09-29 00:22:42</td>\n",
       "      <td>2018-10-01 03:01:51</td>\n",
       "    </tr>\n",
       "    <tr>\n",
       "      <th>18</th>\n",
       "      <td>30</td>\n",
       "      <td>NextSong</td>\n",
       "      <td>2018-09-29 00:22:42</td>\n",
       "      <td>2018-10-01 03:05:15</td>\n",
       "    </tr>\n",
       "    <tr>\n",
       "      <th>19</th>\n",
       "      <td>30</td>\n",
       "      <td>NextSong</td>\n",
       "      <td>2018-09-29 00:22:42</td>\n",
       "      <td>2018-10-01 03:11:03</td>\n",
       "    </tr>\n",
       "    <tr>\n",
       "      <th>20</th>\n",
       "      <td>30</td>\n",
       "      <td>NextSong</td>\n",
       "      <td>2018-09-29 00:22:42</td>\n",
       "      <td>2018-10-01 03:15:23</td>\n",
       "    </tr>\n",
       "    <tr>\n",
       "      <th>21</th>\n",
       "      <td>30</td>\n",
       "      <td>Thumbs Down</td>\n",
       "      <td>2018-09-29 00:22:42</td>\n",
       "      <td>2018-10-01 03:15:24</td>\n",
       "    </tr>\n",
       "    <tr>\n",
       "      <th>22</th>\n",
       "      <td>30</td>\n",
       "      <td>NextSong</td>\n",
       "      <td>2018-09-29 00:22:42</td>\n",
       "      <td>2018-10-01 03:18:27</td>\n",
       "    </tr>\n",
       "    <tr>\n",
       "      <th>23</th>\n",
       "      <td>30</td>\n",
       "      <td>NextSong</td>\n",
       "      <td>2018-09-29 00:22:42</td>\n",
       "      <td>2018-10-01 03:21:43</td>\n",
       "    </tr>\n",
       "    <tr>\n",
       "      <th>24</th>\n",
       "      <td>30</td>\n",
       "      <td>NextSong</td>\n",
       "      <td>2018-09-29 00:22:42</td>\n",
       "      <td>2018-10-01 03:27:03</td>\n",
       "    </tr>\n",
       "    <tr>\n",
       "      <th>25</th>\n",
       "      <td>30</td>\n",
       "      <td>NextSong</td>\n",
       "      <td>2018-09-29 00:22:42</td>\n",
       "      <td>2018-10-01 03:30:52</td>\n",
       "    </tr>\n",
       "    <tr>\n",
       "      <th>26</th>\n",
       "      <td>30</td>\n",
       "      <td>NextSong</td>\n",
       "      <td>2018-09-29 00:22:42</td>\n",
       "      <td>2018-10-01 03:34:08</td>\n",
       "    </tr>\n",
       "    <tr>\n",
       "      <th>27</th>\n",
       "      <td>30</td>\n",
       "      <td>Thumbs Up</td>\n",
       "      <td>2018-09-29 00:22:42</td>\n",
       "      <td>2018-10-01 03:34:09</td>\n",
       "    </tr>\n",
       "    <tr>\n",
       "      <th>28</th>\n",
       "      <td>30</td>\n",
       "      <td>NextSong</td>\n",
       "      <td>2018-09-29 00:22:42</td>\n",
       "      <td>2018-10-01 03:39:50</td>\n",
       "    </tr>\n",
       "    <tr>\n",
       "      <th>29</th>\n",
       "      <td>30</td>\n",
       "      <td>Thumbs Up</td>\n",
       "      <td>2018-09-29 00:22:42</td>\n",
       "      <td>2018-10-01 03:39:51</td>\n",
       "    </tr>\n",
       "  </tbody>\n",
       "</table>\n",
       "</div>"
      ],
      "text/plain": [
       "   userId             page          registered           timestamp\n",
       "0      30         NextSong 2018-09-29 00:22:42 2018-10-01 02:01:57\n",
       "1      30         NextSong 2018-09-29 00:22:42 2018-10-01 02:06:34\n",
       "2      30         NextSong 2018-09-29 00:22:42 2018-10-01 02:11:16\n",
       "3      30         NextSong 2018-09-29 00:22:42 2018-10-01 02:14:59\n",
       "4      30  Add to Playlist 2018-09-29 00:22:42 2018-10-01 02:15:05\n",
       "5      30         NextSong 2018-09-29 00:22:42 2018-10-01 02:18:04\n",
       "6      30         NextSong 2018-09-29 00:22:42 2018-10-01 02:20:18\n",
       "7      30         NextSong 2018-09-29 00:22:42 2018-10-01 02:24:01\n",
       "8      30         NextSong 2018-09-29 00:22:42 2018-10-01 02:28:07\n",
       "9      30         NextSong 2018-09-29 00:22:42 2018-10-01 02:31:49\n",
       "10     30         NextSong 2018-09-29 00:22:42 2018-10-01 02:35:32\n",
       "11     30         NextSong 2018-09-29 00:22:42 2018-10-01 02:39:25\n",
       "12     30         NextSong 2018-09-29 00:22:42 2018-10-01 02:43:04\n",
       "13     30         NextSong 2018-09-29 00:22:42 2018-10-01 02:46:46\n",
       "14     30         NextSong 2018-09-29 00:22:42 2018-10-01 02:49:05\n",
       "15     30         NextSong 2018-09-29 00:22:42 2018-10-01 02:54:16\n",
       "16     30         NextSong 2018-09-29 00:22:42 2018-10-01 02:57:53\n",
       "17     30         NextSong 2018-09-29 00:22:42 2018-10-01 03:01:51\n",
       "18     30         NextSong 2018-09-29 00:22:42 2018-10-01 03:05:15\n",
       "19     30         NextSong 2018-09-29 00:22:42 2018-10-01 03:11:03\n",
       "20     30         NextSong 2018-09-29 00:22:42 2018-10-01 03:15:23\n",
       "21     30      Thumbs Down 2018-09-29 00:22:42 2018-10-01 03:15:24\n",
       "22     30         NextSong 2018-09-29 00:22:42 2018-10-01 03:18:27\n",
       "23     30         NextSong 2018-09-29 00:22:42 2018-10-01 03:21:43\n",
       "24     30         NextSong 2018-09-29 00:22:42 2018-10-01 03:27:03\n",
       "25     30         NextSong 2018-09-29 00:22:42 2018-10-01 03:30:52\n",
       "26     30         NextSong 2018-09-29 00:22:42 2018-10-01 03:34:08\n",
       "27     30        Thumbs Up 2018-09-29 00:22:42 2018-10-01 03:34:09\n",
       "28     30         NextSong 2018-09-29 00:22:42 2018-10-01 03:39:50\n",
       "29     30        Thumbs Up 2018-09-29 00:22:42 2018-10-01 03:39:51"
      ]
     },
     "execution_count": 348,
     "metadata": {},
     "output_type": "execute_result"
    }
   ],
   "source": [
    "df.filter(F.col(\"userId\")==\"30\").select(\"userId\",\"page\",\"registered\",\"timestamp\").sort(\"timestamp\").toPandas().head(30)"
   ]
  },
  {
   "cell_type": "markdown",
   "metadata": {},
   "source": [
    "### Defining Churn \n",
    "According to this blog post on [How to Reduce Customer Churn](https://blog.hubspot.com/service/how-to-reduce-customer-churn); \n",
    "\n",
    ">\"Customer churn -- also known as customer attrition -- refers to the rate at which customers who purchase or subscribe to your product or service offering end their relationship with you and stop bringing in revenue for your business.\"\n",
    "\n",
    "For this case, the registered users that either subscribe to the music service on the free or paid plan, churns when they confrim the cancellation of service. Hence, a good meassure of churn is the number of Submits to the \"Cancellation Confirmation\" page. "
   ]
  },
  {
   "cell_type": "code",
   "execution_count": 349,
   "metadata": {},
   "outputs": [
    {
     "name": "stdout",
     "output_type": "stream",
     "text": [
      "+------+---------+---------+------+-------------+---------+------+-----+--------------------+------+--------------------+-------------+---------+----+------+-------------+--------------------+------+-------------------+-------------------+\n",
      "|artist|     auth|firstName|gender|itemInSession| lastName|length|level|            location|method|                page| registration|sessionId|song|status|           ts|           userAgent|userId|         registered|          timestamp|\n",
      "+------+---------+---------+------+-------------+---------+------+-----+--------------------+------+--------------------+-------------+---------+----+------+-------------+--------------------+------+-------------------+-------------------+\n",
      "|  null|Cancelled|   Adriel|     M|          104|  Mendoza|  null| paid|  Kansas City, MO-KS|   GET|Cancellation Conf...|1535623466000|      514|null|   200|1538943990000|\"Mozilla/5.0 (Mac...|    18|2018-08-30 12:04:26|2018-10-07 22:26:30|\n",
      "|  null|Cancelled|    Diego|     M|           56|    Mckee|  null| paid|Phoenix-Mesa-Scot...|   GET|Cancellation Conf...|1537167593000|      540|null|   200|1539033046000|\"Mozilla/5.0 (iPh...|    32|2018-09-17 08:59:53|2018-10-08 23:10:46|\n",
      "|  null|Cancelled|    Mason|     M|           10|     Hart|  null| free|  Corpus Christi, TX|   GET|Cancellation Conf...|1533157139000|      174|null|   200|1539318918000|\"Mozilla/5.0 (Mac...|   125|2018-08-01 22:58:59|2018-10-12 06:35:18|\n",
      "|  null|Cancelled|Alexander|     M|          332|   Garcia|  null| paid|Indianapolis-Carm...|   GET|Cancellation Conf...|1536817381000|      508|null|   200|1539375441000|Mozilla/5.0 (Wind...|   105|2018-09-13 07:43:01|2018-10-12 22:17:21|\n",
      "|  null|Cancelled|    Kayla|     F|          273|  Johnson|  null| paid|Philadelphia-Camd...|   GET|Cancellation Conf...|1538333829000|      797|null|   200|1539465584000|Mozilla/5.0 (Wind...|    17|2018-09-30 20:57:09|2018-10-13 23:19:44|\n",
      "|  null|Cancelled|    Molly|     F|           29| Harrison|  null| free|Virginia Beach-No...|   GET|Cancellation Conf...|1534255113000|      843|null|   200|1539588854000|\"Mozilla/5.0 (Mac...|   143|2018-08-14 15:58:33|2018-10-15 09:34:14|\n",
      "|  null|Cancelled|     Alex|     M|          145|    Hogan|  null| paid|Denver-Aurora-Lak...|   GET|Cancellation Conf...|1535066380000|      842|null|   200|1539729037000|Mozilla/5.0 (Wind...|   101|2018-08-24 01:19:40|2018-10-17 00:30:37|\n",
      "|  null|Cancelled|    Davis|     M|           34|     Wang|  null| paid|           Flint, MI|   GET|Cancellation Conf...|1538289776000|      802|null|   200|1539736161000|\"Mozilla/5.0 (Win...|   129|2018-09-30 08:42:56|2018-10-17 02:29:21|\n",
      "|  null|Cancelled|  Nikolas|     M|          287|    Olsen|  null| paid|Oxnard-Thousand O...|   GET|Cancellation Conf...|1528403713000|      881|null|   200|1539759749000|Mozilla/5.0 (X11;...|   121|2018-06-07 22:35:13|2018-10-17 09:02:29|\n",
      "|  null|Cancelled|    Ethan|     M|          176|  Johnson|  null| paid|Lexington-Fayette...|   GET|Cancellation Conf...|1538080987000|      934|null|   200|1539761972000|\"Mozilla/5.0 (Win...|    51|2018-09-27 22:43:07|2018-10-17 09:39:32|\n",
      "|  null|Cancelled|Christian|     M|          100| Robinson|  null| paid|       Quincy, IL-MO|   GET|Cancellation Conf...|1534942082000|     1092|null|   200|1540050556000|\"Mozilla/5.0 (Win...|    87|2018-08-22 14:48:02|2018-10-20 17:49:16|\n",
      "|  null|Cancelled|    Molly|     F|           43|Patterson|  null| paid|   Memphis, TN-MS-AR|   GET|Cancellation Conf...|1535498705000|     1029|null|   200|1540062068000|Mozilla/5.0 (X11;...|   122|2018-08-29 01:25:05|2018-10-20 21:01:08|\n",
      "|  null|Cancelled|   Sophia|     F|           72|    Perry|  null| paid|Los Angeles-Long ...|   GET|Cancellation Conf...|1533885783000|     1072|null|   200|1540193374000|Mozilla/5.0 (Wind...|    12|2018-08-10 09:23:03|2018-10-22 09:29:34|\n",
      "|  null|Cancelled|    Erick|     M|           48|   Brooks|  null| paid|           Selma, AL|   GET|Cancellation Conf...|1537956751000|     1112|null|   200|1540223006000|\"Mozilla/5.0 (Win...|    58|2018-09-26 12:12:31|2018-10-22 17:43:26|\n",
      "|  null|Cancelled|   Rachel|     F|           11|   Bailey|  null| paid|Albany-Schenectad...|   GET|Cancellation Conf...|1536102943000|     1059|null|   200|1540402387000|Mozilla/5.0 (Wind...|    73|2018-09-05 01:15:43|2018-10-24 19:33:07|\n",
      "|  null|Cancelled|  Jeffery|     M|           46|  Wheeler|  null| paid|         Bozeman, MT|   GET|Cancellation Conf...|1533886191000|     1324|null|   200|1540875543000|\"Mozilla/5.0 (Win...|     3|2018-08-10 09:29:51|2018-10-30 05:59:03|\n",
      "|  null|Cancelled|   Sophia|     F|           18|      Key|  null| paid|Los Angeles-Long ...|   GET|Cancellation Conf...|1537679535000|     1383|null|   200|1541166424000|\"Mozilla/5.0 (Mac...|   106|2018-09-23 07:12:15|2018-11-02 14:47:04|\n",
      "|  null|Cancelled|    Piper|     F|            8|  Nielsen|  null| paid|New York-Newark-J...|   GET|Cancellation Conf...|1537699856000|     1583|null|   200|1541340091000|\"Mozilla/5.0 (Mac...|   103|2018-09-23 12:50:56|2018-11-04 15:01:31|\n",
      "|  null|Cancelled|   Teagan|     F|          306|  Roberts|  null| paid|New Philadelphia-...|   GET|Cancellation Conf...|1537634865000|     1519|null|   200|1541463632000|Mozilla/5.0 (Wind...|    28|2018-09-22 18:47:45|2018-11-06 01:20:32|\n",
      "|  null|Cancelled|    Alexi|     F|           42|   Warren|  null| paid|Spokane-Spokane V...|   GET|Cancellation Conf...|1532482662000|     1819|null|   200|1542051608000|Mozilla/5.0 (Wind...|    54|2018-07-25 03:37:42|2018-11-12 20:40:08|\n",
      "+------+---------+---------+------+-------------+---------+------+-----+--------------------+------+--------------------+-------------+---------+----+------+-------------+--------------------+------+-------------------+-------------------+\n",
      "only showing top 20 rows\n",
      "\n"
     ]
    }
   ],
   "source": [
    "# Find users that Submit Cancellation Confirmation\n",
    "df.filter(\"page = 'Cancellation Confirmation'\").show()"
   ]
  },
  {
   "cell_type": "code",
   "execution_count": 350,
   "metadata": {},
   "outputs": [],
   "source": [
    "# We define a new \"flag_churn_event\" and set it to 1 if it happened, and 0 otherwise. \n",
    "flag_churn_event = F.udf(lambda x: 1 if x == \"Cancellation Confirmation\" else 0, T.IntegerType())\n",
    "\n",
    "# Add churn (cancel confirmation) column \n",
    "df = df.withColumn(\"churn\", flag_churn_event(\"page\"))"
   ]
  },
  {
   "cell_type": "code",
   "execution_count": 351,
   "metadata": {},
   "outputs": [
    {
     "data": {
      "text/plain": [
       "52"
      ]
     },
     "execution_count": 351,
     "metadata": {},
     "output_type": "execute_result"
    }
   ],
   "source": [
    "## Number of users that has churned \n",
    "users_churned = df.where(df.churn==1).dropDuplicates().select(\"userId\").toPandas()[\"userId\"].tolist()\n",
    "len(users_churned)"
   ]
  },
  {
   "cell_type": "code",
   "execution_count": 352,
   "metadata": {},
   "outputs": [],
   "source": [
    "# DataFrame of churned users \n",
    "df_churned = df.filter(df.userId.isin(users_churned))\n",
    "# Data Frame of users not churned \n",
    "df_not_churned = df.filter(~df.userId.isin(users_churned))"
   ]
  },
  {
   "cell_type": "code",
   "execution_count": 353,
   "metadata": {},
   "outputs": [
    {
     "data": {
      "text/plain": [
       "173"
      ]
     },
     "execution_count": 353,
     "metadata": {},
     "output_type": "execute_result"
    }
   ],
   "source": [
    "## Number of users that hasn't churned \n",
    "df_not_churned.select(\"userId\").dropDuplicates().count()"
   ]
  },
  {
   "cell_type": "code",
   "execution_count": 354,
   "metadata": {},
   "outputs": [
    {
     "name": "stdout",
     "output_type": "stream",
     "text": [
      "+------+-----+\n",
      "|gender|count|\n",
      "+------+-----+\n",
      "|     F|   20|\n",
      "|     M|   32|\n",
      "+------+-----+\n",
      "\n"
     ]
    }
   ],
   "source": [
    "## Gender distribution in Churned users\n",
    "df_churned.select(\"userId\",\"gender\").dropDuplicates().groupBy(\"gender\").count().show()"
   ]
  },
  {
   "cell_type": "code",
   "execution_count": 355,
   "metadata": {},
   "outputs": [
    {
     "name": "stdout",
     "output_type": "stream",
     "text": [
      "+------+-----+\n",
      "|gender|count|\n",
      "+------+-----+\n",
      "|     F|   84|\n",
      "|     M|   89|\n",
      "+------+-----+\n",
      "\n"
     ]
    }
   ],
   "source": [
    "## Gender distribution for non-churned users \n",
    "df_not_churned.select(\"userId\",\"gender\").dropDuplicates().groupBy(\"gender\").count().show()"
   ]
  },
  {
   "cell_type": "code",
   "execution_count": 356,
   "metadata": {},
   "outputs": [
    {
     "name": "stdout",
     "output_type": "stream",
     "text": [
      "+-----+-----+\n",
      "|level|count|\n",
      "+-----+-----+\n",
      "| free|   46|\n",
      "| paid|   36|\n",
      "+-----+-----+\n",
      "\n"
     ]
    }
   ],
   "source": [
    "## Distribution of paid vs free plan users amongst the churned users \n",
    "df_churned.select(\"userId\",\"level\").dropDuplicates().groupBy(\"level\").count().show()"
   ]
  },
  {
   "cell_type": "code",
   "execution_count": 357,
   "metadata": {},
   "outputs": [
    {
     "name": "stdout",
     "output_type": "stream",
     "text": [
      "+-----+-----+\n",
      "|level|count|\n",
      "+-----+-----+\n",
      "| free|  149|\n",
      "| paid|  129|\n",
      "+-----+-----+\n",
      "\n"
     ]
    }
   ],
   "source": [
    "## Distribution of paid vs free plan users amongst the non-churned users \n",
    "df_not_churned.select(\"userId\",\"level\").dropDuplicates().groupBy(\"level\").count().show()"
   ]
  },
  {
   "cell_type": "code",
   "execution_count": 358,
   "metadata": {},
   "outputs": [
    {
     "name": "stdout",
     "output_type": "stream",
     "text": [
      "root\n",
      " |-- artist: string (nullable = true)\n",
      " |-- auth: string (nullable = true)\n",
      " |-- firstName: string (nullable = true)\n",
      " |-- gender: string (nullable = true)\n",
      " |-- itemInSession: long (nullable = true)\n",
      " |-- lastName: string (nullable = true)\n",
      " |-- length: double (nullable = true)\n",
      " |-- level: string (nullable = true)\n",
      " |-- location: string (nullable = true)\n",
      " |-- method: string (nullable = true)\n",
      " |-- page: string (nullable = true)\n",
      " |-- registration: long (nullable = true)\n",
      " |-- sessionId: long (nullable = true)\n",
      " |-- song: string (nullable = true)\n",
      " |-- status: long (nullable = true)\n",
      " |-- ts: long (nullable = true)\n",
      " |-- userAgent: string (nullable = true)\n",
      " |-- userId: string (nullable = true)\n",
      " |-- registered: timestamp (nullable = true)\n",
      " |-- timestamp: timestamp (nullable = true)\n",
      " |-- churn: integer (nullable = true)\n",
      "\n"
     ]
    }
   ],
   "source": [
    "# Print out the data schema \n",
    "df.printSchema()"
   ]
  },
  {
   "cell_type": "code",
   "execution_count": 359,
   "metadata": {},
   "outputs": [],
   "source": [
    "# To make it easer using the categorical variabels gender and level we create a flag for them as well\n",
    "# We define a new \"female_flag\" and set it to 1 if F, and 0 otherwise. \n",
    "flag_female = F.udf(lambda x: 1 if x == \"F\" else 0, T.IntegerType())\n",
    "# We define a new \"paid_plan_flag\" and set it to 1 if F, and 0 otherwise. \n",
    "paid_plan_flag = F.udf(lambda x: 1 if x == \"paid\" else 0, T.IntegerType())\n",
    "\n",
    "df = df.withColumn(\"female\", flag_female(\"gender\"))\n",
    "df = df.withColumn(\"paid_plan\", flag_female(\"level\"))"
   ]
  },
  {
   "cell_type": "markdown",
   "metadata": {},
   "source": [
    "# Feature Engineering\n",
    "Once you've familiarized yourself with the data, build out the features you find promising to train your model on. To work with the full dataset, you can follow the following steps.\n",
    "- Write a script to extract the necessary features from the smaller subset of data\n",
    "- Ensure that your script is scalable, using the best practices discussed in Lesson 3\n",
    "- Try your script on the full data set, debugging your script if necessary\n",
    "\n",
    "If you are working in the classroom workspace, you can just extract features based on the small subset of data contained here. Be sure to transfer over this work to the larger dataset when you work on your Spark cluster."
   ]
  },
  {
   "cell_type": "markdown",
   "metadata": {},
   "source": [
    "In [How to Improve Your Subscription Based Business By Predicting Churn](https://neilpatel.com/blog/improve-by-predicting-churn/) Neil Patel oulines four main feature types that are relevant for predicting churn; \n",
    "\n",
    "1. Customer features: basic information about the user/customer (eg. age, gender etc)\n",
    "\n",
    "2. Support features: information of the user interaction with customer support (satisfaction ratings eg. Number of thumbs up or down, number of errors and help )\n",
    "\n",
    "3. Usage features: characterization of the customer's usage of the service (eg. level, add friend, add to playlist, downgrades/upgrade counts, total length of songs streamed, number of sessions, length of using the service) \n",
    "\n",
    "4. Contextual features: any other contextual inforamtion we have on the customer (eg. device type. location, user agent etc.)\n",
    "\n",
    "We will use this guide to engineer the features we need for our model. "
   ]
  },
  {
   "cell_type": "code",
   "execution_count": 360,
   "metadata": {},
   "outputs": [],
   "source": [
    "# Create a column of number of days using the service from first ts to last ts\n",
    "# Create a range for each user sorted by timeseries for the sessions \n",
    "user_window = Window \\\n",
    "    .partitionBy('userID') \\\n",
    "    .orderBy(F.desc('timestamp')) \\\n",
    "    .rangeBetween(Window.unboundedPreceding, Window.unboundedFollowing)\n",
    "\n",
    "# The number of days that they have used the service\n",
    "df = df.withColumn(\"days_using_service\", F.datediff(F.first(df.timestamp).over(user_window), \n",
    "                                  F.last(df.timestamp).over(user_window)))\n",
    "# The last level they had \n",
    "df = df.withColumn(\"last_level_paid\",F.last(\"paid_plan\").over(user_window))"
   ]
  },
  {
   "cell_type": "code",
   "execution_count": 361,
   "metadata": {},
   "outputs": [
    {
     "name": "stderr",
     "output_type": "stream",
     "text": [
      "Exception ignored in: <object repr() failed>\n",
      "Traceback (most recent call last):\n",
      "  File \"/miniconda2/envs/spark_env/lib/python3.6/site-packages/pyspark/ml/wrapper.py\", line 40, in __del__\n",
      "    if SparkContext._active_spark_context and self._java_obj is not None:\n",
      "AttributeError: 'VectorAssembler' object has no attribute '_java_obj'\n"
     ]
    },
    {
     "data": {
      "text/html": [
       "<div>\n",
       "<style scoped>\n",
       "    .dataframe tbody tr th:only-of-type {\n",
       "        vertical-align: middle;\n",
       "    }\n",
       "\n",
       "    .dataframe tbody tr th {\n",
       "        vertical-align: top;\n",
       "    }\n",
       "\n",
       "    .dataframe thead th {\n",
       "        text-align: right;\n",
       "    }\n",
       "</style>\n",
       "<table border=\"1\" class=\"dataframe\">\n",
       "  <thead>\n",
       "    <tr style=\"text-align: right;\">\n",
       "      <th></th>\n",
       "      <th>userId</th>\n",
       "      <th>page</th>\n",
       "      <th>registered</th>\n",
       "      <th>timestamp</th>\n",
       "      <th>days_using_service</th>\n",
       "      <th>last_level_paid</th>\n",
       "      <th>churn</th>\n",
       "    </tr>\n",
       "  </thead>\n",
       "  <tbody>\n",
       "    <tr>\n",
       "      <th>0</th>\n",
       "      <td>53</td>\n",
       "      <td>NextSong</td>\n",
       "      <td>2018-09-27 14:09:24</td>\n",
       "      <td>2018-10-01 20:32:53</td>\n",
       "      <td>49</td>\n",
       "      <td>0</td>\n",
       "      <td>0</td>\n",
       "    </tr>\n",
       "    <tr>\n",
       "      <th>1</th>\n",
       "      <td>53</td>\n",
       "      <td>NextSong</td>\n",
       "      <td>2018-09-27 14:09:24</td>\n",
       "      <td>2018-10-01 20:37:23</td>\n",
       "      <td>49</td>\n",
       "      <td>0</td>\n",
       "      <td>0</td>\n",
       "    </tr>\n",
       "    <tr>\n",
       "      <th>2</th>\n",
       "      <td>53</td>\n",
       "      <td>NextSong</td>\n",
       "      <td>2018-09-27 14:09:24</td>\n",
       "      <td>2018-10-01 20:40:24</td>\n",
       "      <td>49</td>\n",
       "      <td>0</td>\n",
       "      <td>0</td>\n",
       "    </tr>\n",
       "    <tr>\n",
       "      <th>3</th>\n",
       "      <td>53</td>\n",
       "      <td>NextSong</td>\n",
       "      <td>2018-09-27 14:09:24</td>\n",
       "      <td>2018-10-01 20:47:38</td>\n",
       "      <td>49</td>\n",
       "      <td>0</td>\n",
       "      <td>0</td>\n",
       "    </tr>\n",
       "    <tr>\n",
       "      <th>4</th>\n",
       "      <td>53</td>\n",
       "      <td>Roll Advert</td>\n",
       "      <td>2018-09-27 14:09:24</td>\n",
       "      <td>2018-10-01 20:47:43</td>\n",
       "      <td>49</td>\n",
       "      <td>0</td>\n",
       "      <td>0</td>\n",
       "    </tr>\n",
       "    <tr>\n",
       "      <th>5</th>\n",
       "      <td>53</td>\n",
       "      <td>NextSong</td>\n",
       "      <td>2018-09-27 14:09:24</td>\n",
       "      <td>2018-10-01 20:50:47</td>\n",
       "      <td>49</td>\n",
       "      <td>0</td>\n",
       "      <td>0</td>\n",
       "    </tr>\n",
       "    <tr>\n",
       "      <th>6</th>\n",
       "      <td>53</td>\n",
       "      <td>NextSong</td>\n",
       "      <td>2018-09-27 14:09:24</td>\n",
       "      <td>2018-10-01 20:55:13</td>\n",
       "      <td>49</td>\n",
       "      <td>0</td>\n",
       "      <td>0</td>\n",
       "    </tr>\n",
       "    <tr>\n",
       "      <th>7</th>\n",
       "      <td>53</td>\n",
       "      <td>Home</td>\n",
       "      <td>2018-09-27 14:09:24</td>\n",
       "      <td>2018-10-01 20:55:40</td>\n",
       "      <td>49</td>\n",
       "      <td>0</td>\n",
       "      <td>0</td>\n",
       "    </tr>\n",
       "    <tr>\n",
       "      <th>8</th>\n",
       "      <td>53</td>\n",
       "      <td>NextSong</td>\n",
       "      <td>2018-09-27 14:09:24</td>\n",
       "      <td>2018-10-01 20:58:26</td>\n",
       "      <td>49</td>\n",
       "      <td>0</td>\n",
       "      <td>0</td>\n",
       "    </tr>\n",
       "    <tr>\n",
       "      <th>9</th>\n",
       "      <td>53</td>\n",
       "      <td>NextSong</td>\n",
       "      <td>2018-09-27 14:09:24</td>\n",
       "      <td>2018-10-01 21:01:54</td>\n",
       "      <td>49</td>\n",
       "      <td>0</td>\n",
       "      <td>0</td>\n",
       "    </tr>\n",
       "    <tr>\n",
       "      <th>10</th>\n",
       "      <td>53</td>\n",
       "      <td>NextSong</td>\n",
       "      <td>2018-09-27 14:09:24</td>\n",
       "      <td>2018-10-01 21:05:35</td>\n",
       "      <td>49</td>\n",
       "      <td>0</td>\n",
       "      <td>0</td>\n",
       "    </tr>\n",
       "    <tr>\n",
       "      <th>11</th>\n",
       "      <td>53</td>\n",
       "      <td>NextSong</td>\n",
       "      <td>2018-09-27 14:09:24</td>\n",
       "      <td>2018-10-01 21:11:58</td>\n",
       "      <td>49</td>\n",
       "      <td>0</td>\n",
       "      <td>0</td>\n",
       "    </tr>\n",
       "    <tr>\n",
       "      <th>12</th>\n",
       "      <td>53</td>\n",
       "      <td>NextSong</td>\n",
       "      <td>2018-09-27 14:09:24</td>\n",
       "      <td>2018-10-01 21:14:41</td>\n",
       "      <td>49</td>\n",
       "      <td>0</td>\n",
       "      <td>0</td>\n",
       "    </tr>\n",
       "    <tr>\n",
       "      <th>13</th>\n",
       "      <td>53</td>\n",
       "      <td>NextSong</td>\n",
       "      <td>2018-09-27 14:09:24</td>\n",
       "      <td>2018-10-01 21:18:26</td>\n",
       "      <td>49</td>\n",
       "      <td>0</td>\n",
       "      <td>0</td>\n",
       "    </tr>\n",
       "    <tr>\n",
       "      <th>14</th>\n",
       "      <td>53</td>\n",
       "      <td>NextSong</td>\n",
       "      <td>2018-09-27 14:09:24</td>\n",
       "      <td>2018-10-01 21:23:38</td>\n",
       "      <td>49</td>\n",
       "      <td>0</td>\n",
       "      <td>0</td>\n",
       "    </tr>\n",
       "    <tr>\n",
       "      <th>15</th>\n",
       "      <td>53</td>\n",
       "      <td>NextSong</td>\n",
       "      <td>2018-09-27 14:09:24</td>\n",
       "      <td>2018-10-01 21:27:30</td>\n",
       "      <td>49</td>\n",
       "      <td>0</td>\n",
       "      <td>0</td>\n",
       "    </tr>\n",
       "    <tr>\n",
       "      <th>16</th>\n",
       "      <td>53</td>\n",
       "      <td>Add to Playlist</td>\n",
       "      <td>2018-09-27 14:09:24</td>\n",
       "      <td>2018-10-01 21:27:51</td>\n",
       "      <td>49</td>\n",
       "      <td>0</td>\n",
       "      <td>0</td>\n",
       "    </tr>\n",
       "    <tr>\n",
       "      <th>17</th>\n",
       "      <td>53</td>\n",
       "      <td>NextSong</td>\n",
       "      <td>2018-09-27 14:09:24</td>\n",
       "      <td>2018-10-01 21:30:28</td>\n",
       "      <td>49</td>\n",
       "      <td>0</td>\n",
       "      <td>0</td>\n",
       "    </tr>\n",
       "    <tr>\n",
       "      <th>18</th>\n",
       "      <td>53</td>\n",
       "      <td>NextSong</td>\n",
       "      <td>2018-09-27 14:09:24</td>\n",
       "      <td>2018-10-01 21:33:46</td>\n",
       "      <td>49</td>\n",
       "      <td>0</td>\n",
       "      <td>0</td>\n",
       "    </tr>\n",
       "    <tr>\n",
       "      <th>19</th>\n",
       "      <td>53</td>\n",
       "      <td>Roll Advert</td>\n",
       "      <td>2018-09-27 14:09:24</td>\n",
       "      <td>2018-10-01 21:33:50</td>\n",
       "      <td>49</td>\n",
       "      <td>0</td>\n",
       "      <td>0</td>\n",
       "    </tr>\n",
       "    <tr>\n",
       "      <th>20</th>\n",
       "      <td>53</td>\n",
       "      <td>NextSong</td>\n",
       "      <td>2018-09-27 14:09:24</td>\n",
       "      <td>2018-10-01 21:39:16</td>\n",
       "      <td>49</td>\n",
       "      <td>0</td>\n",
       "      <td>0</td>\n",
       "    </tr>\n",
       "    <tr>\n",
       "      <th>21</th>\n",
       "      <td>53</td>\n",
       "      <td>NextSong</td>\n",
       "      <td>2018-09-27 14:09:24</td>\n",
       "      <td>2018-10-01 21:43:17</td>\n",
       "      <td>49</td>\n",
       "      <td>0</td>\n",
       "      <td>0</td>\n",
       "    </tr>\n",
       "    <tr>\n",
       "      <th>22</th>\n",
       "      <td>53</td>\n",
       "      <td>NextSong</td>\n",
       "      <td>2018-09-27 14:09:24</td>\n",
       "      <td>2018-10-01 21:46:16</td>\n",
       "      <td>49</td>\n",
       "      <td>0</td>\n",
       "      <td>0</td>\n",
       "    </tr>\n",
       "    <tr>\n",
       "      <th>23</th>\n",
       "      <td>53</td>\n",
       "      <td>NextSong</td>\n",
       "      <td>2018-09-27 14:09:24</td>\n",
       "      <td>2018-10-01 21:49:36</td>\n",
       "      <td>49</td>\n",
       "      <td>0</td>\n",
       "      <td>0</td>\n",
       "    </tr>\n",
       "    <tr>\n",
       "      <th>24</th>\n",
       "      <td>53</td>\n",
       "      <td>NextSong</td>\n",
       "      <td>2018-09-27 14:09:24</td>\n",
       "      <td>2018-10-01 21:53:11</td>\n",
       "      <td>49</td>\n",
       "      <td>0</td>\n",
       "      <td>0</td>\n",
       "    </tr>\n",
       "    <tr>\n",
       "      <th>25</th>\n",
       "      <td>53</td>\n",
       "      <td>Logout</td>\n",
       "      <td>2018-09-27 14:09:24</td>\n",
       "      <td>2018-10-01 21:53:12</td>\n",
       "      <td>49</td>\n",
       "      <td>0</td>\n",
       "      <td>0</td>\n",
       "    </tr>\n",
       "    <tr>\n",
       "      <th>26</th>\n",
       "      <td>53</td>\n",
       "      <td>Home</td>\n",
       "      <td>2018-09-27 14:09:24</td>\n",
       "      <td>2018-10-01 21:53:16</td>\n",
       "      <td>49</td>\n",
       "      <td>0</td>\n",
       "      <td>0</td>\n",
       "    </tr>\n",
       "    <tr>\n",
       "      <th>27</th>\n",
       "      <td>53</td>\n",
       "      <td>NextSong</td>\n",
       "      <td>2018-09-27 14:09:24</td>\n",
       "      <td>2018-10-01 21:58:34</td>\n",
       "      <td>49</td>\n",
       "      <td>0</td>\n",
       "      <td>0</td>\n",
       "    </tr>\n",
       "    <tr>\n",
       "      <th>28</th>\n",
       "      <td>53</td>\n",
       "      <td>NextSong</td>\n",
       "      <td>2018-09-27 14:09:24</td>\n",
       "      <td>2018-10-01 22:05:56</td>\n",
       "      <td>49</td>\n",
       "      <td>0</td>\n",
       "      <td>0</td>\n",
       "    </tr>\n",
       "    <tr>\n",
       "      <th>29</th>\n",
       "      <td>53</td>\n",
       "      <td>NextSong</td>\n",
       "      <td>2018-09-27 14:09:24</td>\n",
       "      <td>2018-10-01 22:08:42</td>\n",
       "      <td>49</td>\n",
       "      <td>0</td>\n",
       "      <td>0</td>\n",
       "    </tr>\n",
       "  </tbody>\n",
       "</table>\n",
       "</div>"
      ],
      "text/plain": [
       "   userId             page          registered           timestamp  \\\n",
       "0      53         NextSong 2018-09-27 14:09:24 2018-10-01 20:32:53   \n",
       "1      53         NextSong 2018-09-27 14:09:24 2018-10-01 20:37:23   \n",
       "2      53         NextSong 2018-09-27 14:09:24 2018-10-01 20:40:24   \n",
       "3      53         NextSong 2018-09-27 14:09:24 2018-10-01 20:47:38   \n",
       "4      53      Roll Advert 2018-09-27 14:09:24 2018-10-01 20:47:43   \n",
       "5      53         NextSong 2018-09-27 14:09:24 2018-10-01 20:50:47   \n",
       "6      53         NextSong 2018-09-27 14:09:24 2018-10-01 20:55:13   \n",
       "7      53             Home 2018-09-27 14:09:24 2018-10-01 20:55:40   \n",
       "8      53         NextSong 2018-09-27 14:09:24 2018-10-01 20:58:26   \n",
       "9      53         NextSong 2018-09-27 14:09:24 2018-10-01 21:01:54   \n",
       "10     53         NextSong 2018-09-27 14:09:24 2018-10-01 21:05:35   \n",
       "11     53         NextSong 2018-09-27 14:09:24 2018-10-01 21:11:58   \n",
       "12     53         NextSong 2018-09-27 14:09:24 2018-10-01 21:14:41   \n",
       "13     53         NextSong 2018-09-27 14:09:24 2018-10-01 21:18:26   \n",
       "14     53         NextSong 2018-09-27 14:09:24 2018-10-01 21:23:38   \n",
       "15     53         NextSong 2018-09-27 14:09:24 2018-10-01 21:27:30   \n",
       "16     53  Add to Playlist 2018-09-27 14:09:24 2018-10-01 21:27:51   \n",
       "17     53         NextSong 2018-09-27 14:09:24 2018-10-01 21:30:28   \n",
       "18     53         NextSong 2018-09-27 14:09:24 2018-10-01 21:33:46   \n",
       "19     53      Roll Advert 2018-09-27 14:09:24 2018-10-01 21:33:50   \n",
       "20     53         NextSong 2018-09-27 14:09:24 2018-10-01 21:39:16   \n",
       "21     53         NextSong 2018-09-27 14:09:24 2018-10-01 21:43:17   \n",
       "22     53         NextSong 2018-09-27 14:09:24 2018-10-01 21:46:16   \n",
       "23     53         NextSong 2018-09-27 14:09:24 2018-10-01 21:49:36   \n",
       "24     53         NextSong 2018-09-27 14:09:24 2018-10-01 21:53:11   \n",
       "25     53           Logout 2018-09-27 14:09:24 2018-10-01 21:53:12   \n",
       "26     53             Home 2018-09-27 14:09:24 2018-10-01 21:53:16   \n",
       "27     53         NextSong 2018-09-27 14:09:24 2018-10-01 21:58:34   \n",
       "28     53         NextSong 2018-09-27 14:09:24 2018-10-01 22:05:56   \n",
       "29     53         NextSong 2018-09-27 14:09:24 2018-10-01 22:08:42   \n",
       "\n",
       "    days_using_service  last_level_paid  churn  \n",
       "0                   49                0      0  \n",
       "1                   49                0      0  \n",
       "2                   49                0      0  \n",
       "3                   49                0      0  \n",
       "4                   49                0      0  \n",
       "5                   49                0      0  \n",
       "6                   49                0      0  \n",
       "7                   49                0      0  \n",
       "8                   49                0      0  \n",
       "9                   49                0      0  \n",
       "10                  49                0      0  \n",
       "11                  49                0      0  \n",
       "12                  49                0      0  \n",
       "13                  49                0      0  \n",
       "14                  49                0      0  \n",
       "15                  49                0      0  \n",
       "16                  49                0      0  \n",
       "17                  49                0      0  \n",
       "18                  49                0      0  \n",
       "19                  49                0      0  \n",
       "20                  49                0      0  \n",
       "21                  49                0      0  \n",
       "22                  49                0      0  \n",
       "23                  49                0      0  \n",
       "24                  49                0      0  \n",
       "25                  49                0      0  \n",
       "26                  49                0      0  \n",
       "27                  49                0      0  \n",
       "28                  49                0      0  \n",
       "29                  49                0      0  "
      ]
     },
     "execution_count": 361,
     "metadata": {},
     "output_type": "execute_result"
    }
   ],
   "source": [
    "df.filter(F.col(\"userId\")==users_churned[0]).select(\"userId\",\"page\",\"registered\",\"timestamp\",\"days_using_service\",\"last_level_paid\",\"churn\").sort(\"timestamp\").toPandas().head(30)"
   ]
  },
  {
   "cell_type": "code",
   "execution_count": 362,
   "metadata": {},
   "outputs": [
    {
     "data": {
      "text/plain": [
       "[Row(artist=None, auth='Logged In', firstName='Darianna', gender='F', itemInSession=34, lastName='Carpenter', length=None, level='free', location='Bridgeport-Stamford-Norwalk, CT', method='PUT', page='Logout', registration=1538016340000, sessionId=187, song=None, status=307, ts=1542823952000, userAgent='\"Mozilla/5.0 (iPhone; CPU iPhone OS 7_1_2 like Mac OS X) AppleWebKit/537.51.2 (KHTML, like Gecko) Version/7.0 Mobile/11D257 Safari/9537.53\"', userId='100010', registered=datetime.datetime(2018, 9, 27, 4, 45, 40), timestamp=datetime.datetime(2018, 11, 21, 19, 12, 32), churn=0, female=1, paid_plan=0, days_using_service=44, last_level_paid=0)]"
      ]
     },
     "execution_count": 362,
     "metadata": {},
     "output_type": "execute_result"
    }
   ],
   "source": [
    "df.take(1)"
   ]
  },
  {
   "cell_type": "code",
   "execution_count": 363,
   "metadata": {},
   "outputs": [],
   "source": [
    "## Create new user_df calculating the features \n",
    "\n",
    "user_df = df.groupBy(\"userId\").agg(\n",
    "    \n",
    "    # Customer related features\n",
    "    F.max(\"female\").alias(\"female\"),\n",
    "    \n",
    "    # Support related features\n",
    "    F.sum(F.when(F.col(\"page\")==\"Thumbs Up\", 1).otherwise(0)).alias(\"thumb_ups\"),\n",
    "    F.sum(F.when(F.col(\"page\")==\"Thumbs Down\", 1).otherwise(0)).alias(\"thumb_downs\"),\n",
    "    F.sum(F.when(F.col(\"page\")==\"Error\", 1).otherwise(0)).alias(\"errors\"),\n",
    "    F.sum(F.when(F.col(\"page\")==\"Help\", 1).otherwise(0)).alias(\"support_enquiries\"),\n",
    "    \n",
    "    # Usage related features\n",
    "    F.max(\"churn\").alias(\"churn\"),\n",
    "    F.max(\"last_level_paid\").alias(\"last_level_paid\"),\n",
    "    F.sum(F.when(F.col(\"page\")==\"Add Firend\", 1).otherwise(0)).alias(\"referrals\"),\n",
    "    F.sum(F.when(F.col(\"page\")==\"Add to Playlist\", 1).otherwise(0)).alias(\"playlists\"),\n",
    "    F.sum(F.when(F.col(\"page\")==\"Submit Downgrade\", 1).otherwise(0)).alias(\"downgrades\"),\n",
    "    F.sum(F.when(F.col(\"page\")==\"Submit Upgrade\", 1).otherwise(0)).alias(\"upgrades\"),\n",
    "    F.sum(F.when(F.col(\"page\")==\"NextSong\", 1).otherwise(0)).alias(\"songs\"),\n",
    "    F.mean(\"itemInSession\").alias(\"avr_songs_per_sessions\"),\n",
    "    F.sum(\"length\").alias(\"total_length_streamed\"),\n",
    "    F.countDistinct(\"Artist\").alias(\"artists\"),\n",
    "    F.countDistinct(\"sessionId\").alias(\"sessions\"),\n",
    "    F.first(\"days_using_service\").alias(\"days_using_service\"),\n",
    "    \n",
    "    # Contextual features\n",
    "    F.countDistinct(\"userAgent\").alias(\"user_agents\"),\n",
    "    F.countDistinct(\"location\").alias(\"locations\"),\n",
    "    )"
   ]
  },
  {
   "cell_type": "code",
   "execution_count": 364,
   "metadata": {},
   "outputs": [
    {
     "name": "stdout",
     "output_type": "stream",
     "text": [
      "root\n",
      " |-- userId: string (nullable = true)\n",
      " |-- female: integer (nullable = true)\n",
      " |-- thumb_ups: long (nullable = true)\n",
      " |-- thumb_downs: long (nullable = true)\n",
      " |-- errors: long (nullable = true)\n",
      " |-- support_enquiries: long (nullable = true)\n",
      " |-- churn: integer (nullable = true)\n",
      " |-- last_level_paid: integer (nullable = true)\n",
      " |-- referrals: long (nullable = true)\n",
      " |-- playlists: long (nullable = true)\n",
      " |-- downgrades: long (nullable = true)\n",
      " |-- upgrades: long (nullable = true)\n",
      " |-- songs: long (nullable = true)\n",
      " |-- avr_songs_per_sessions: double (nullable = true)\n",
      " |-- total_length_streamed: double (nullable = true)\n",
      " |-- artists: long (nullable = false)\n",
      " |-- sessions: long (nullable = false)\n",
      " |-- days_using_service: integer (nullable = true)\n",
      " |-- user_agents: long (nullable = false)\n",
      " |-- locations: long (nullable = false)\n",
      "\n"
     ]
    }
   ],
   "source": [
    "user_df.printSchema()"
   ]
  },
  {
   "cell_type": "code",
   "execution_count": 365,
   "metadata": {},
   "outputs": [
    {
     "data": {
      "text/plain": [
       "[Row(userId='100010', female=1, thumb_ups=17, thumb_downs=5, errors=0, support_enquiries=2, churn=0, last_level_paid=0, referrals=0, playlists=7, downgrades=0, upgrades=0, songs=275, avr_songs_per_sessions=35.89501312335958, total_length_streamed=66940.89735000003, artists=252, sessions=7, days_using_service=44, user_agents=1, locations=1)]"
      ]
     },
     "execution_count": 365,
     "metadata": {},
     "output_type": "execute_result"
    }
   ],
   "source": [
    "user_df.take(1)"
   ]
  },
  {
   "cell_type": "markdown",
   "metadata": {},
   "source": [
    "# Modeling\n",
    "Split the full dataset into train, test, and validation sets. Test out several of the machine learning methods you learned. Evaluate the accuracy of the various models, tuning parameters as necessary. Determine your winning model based on test accuracy and report results on the validation set. Since the churned users are a fairly small subset, I suggest using F1 score as the metric to optimize."
   ]
  },
  {
   "cell_type": "code",
   "execution_count": 429,
   "metadata": {},
   "outputs": [],
   "source": [
    "## Rename churn to label for use in machine learning\n",
    "user_df = user_df.withColumnRenamed(\"churn\",\"label\")\n",
    "\n",
    "## Splitting into train, test and validation set. \n",
    "# Split full data set to 80% training data and 20% for rest \n",
    "\n",
    "train, rest = user_df.randomSplit([0.8,0.2],seed=123)\n",
    "# Split further so that 10% test and 10% validation\n",
    "test,validation = rest.randomSplit([0.5,0.5],seed=123)"
   ]
  },
  {
   "cell_type": "markdown",
   "metadata": {},
   "source": [
    "## Classifiers \n",
    "\n",
    "We will test using three different classifiers for predicting churb (1 vs 0). Tree popular classifiers these types of classification tasks are LogisticRegression (binomial), Decision Tree classifier and Random Forrest Classifier [ref](https://spark.apache.org/docs/latest/ml-classification-regression.html) "
   ]
  },
  {
   "cell_type": "markdown",
   "metadata": {},
   "source": [
    "### Logistic Regression"
   ]
  },
  {
   "cell_type": "code",
   "execution_count": 430,
   "metadata": {},
   "outputs": [],
   "source": [
    "# Vectorize nummerical features\n",
    "assembler = VectorAssembler(\n",
    "    inputCols = [\"female\",\"thumb_ups\",\"thumb_downs\",\"errors\",\"support_enquiries\",\"last_level_paid\",\n",
    "                 \"referrals\",\"playlists\",\"downgrades\",\"upgrades\",\"songs\",\"songs\",\"avr_songs_per_sessions\",\n",
    "                 \"total_length_streamed\",\"artists\",\"sessions\",\"days_using_service\",\"user_agents\",\"locations\"],\n",
    "    outputCol = \"NumFeatures\")\n",
    "\n",
    "# Normalize nummeric features \n",
    "scaler = StandardScaler(inputCol = \"NumFeatures\",outputCol = \"features\",withMean=True,withStd =True)\n",
    "\n",
    "# Build the logistic regression model\n",
    "lr = LogisticRegression(featuresCol = \"features\",labelCol = \"label\", maxIter = 10,regParam =0.5, elasticNetParam=0.8)\n",
    "\n",
    "# Biild the pipeline\n",
    "lr_pipeline = Pipeline(stages = [assembler,scaler,lr]) "
   ]
  },
  {
   "cell_type": "code",
   "execution_count": 410,
   "metadata": {},
   "outputs": [],
   "source": [
    "# Train the model\n",
    "lr_model = lr_pipeline.fit(train)"
   ]
  },
  {
   "cell_type": "code",
   "execution_count": 411,
   "metadata": {},
   "outputs": [],
   "source": [
    "# Predict\n",
    "lr_results = lr_model.transform(test)"
   ]
  },
  {
   "cell_type": "code",
   "execution_count": 391,
   "metadata": {},
   "outputs": [
    {
     "data": {
      "text/plain": [
       "Row(userId='11', female=1, thumb_ups=40, thumb_downs=9, errors=1, support_enquiries=3, churn=0, last_level_paid=0, referrals=0, playlists=20, downgrades=1, upgrades=2, songs=647, avr_songs_per_sessions=46.89622641509434, total_length_streamed=159669.96304000012, artists=534, sessions=16, days_using_service=53, user_agents=1, locations=1, NumFeatures=DenseVector([1.0, 40.0, 9.0, 1.0, 3.0, 0.0, 0.0, 20.0, 1.0, 2.0, 647.0, 647.0, 46.8962, 159669.963, 534.0, 16.0, 53.0, 1.0, 1.0]), features=DenseVector([1.1069, -0.1887, -0.1163, 0.0331, -0.4599, 0.0, 0.0, -0.2239, 1.3473, 1.8101, -0.3028, -0.3028, -0.6359, -0.3094, -0.2146, 0.3157, 0.6199, 0.0, 0.0]), rawPrediction=DenseVector([1.1907, -1.1907]), probability=DenseVector([0.7669, 0.2331]), prediction=0.0)"
      ]
     },
     "execution_count": 391,
     "metadata": {},
     "output_type": "execute_result"
    }
   ],
   "source": [
    "lr_results.head()"
   ]
  },
  {
   "cell_type": "code",
   "execution_count": 412,
   "metadata": {},
   "outputs": [
    {
     "name": "stdout",
     "output_type": "stream",
     "text": [
      "Test Area Under ROC 0.5\n"
     ]
    }
   ],
   "source": [
    "evaluator = BinaryClassificationEvaluator()\n",
    "print('Test Area Under ROC', evaluator.evaluate(lr_results))"
   ]
  },
  {
   "cell_type": "code",
   "execution_count": 438,
   "metadata": {},
   "outputs": [],
   "source": [
    "def evaluate_pipeline(results):\n",
    "    true_pos = lr_results.filter((results.prediction ==0.0) & (results.label == 0)).count()\n",
    "    false_pos = lr_results.filter((results.prediction ==0.0) & (results.label == 1)).count()\n",
    "    true_neg = lr_results.filter((results.prediction ==1.0) & (results.label == 1)).count()\n",
    "    false_neg = lr_results.filter((results.prediction ==1.0) & (results.label == 0)).count()\n",
    "    \n",
    "    precision = true_pos / (true_pos+false_pos) if (true_pos+false_pos) !=0 else 0\n",
    "    print(f\"Precision: {precision}\")\n",
    "    recall = true_pos / (true_pos+false_neg) if (true_pos+false_neg) != 0 else 0\n",
    "    print(f\"Recall: {recall}\")\n",
    "    f1_measure = (2*precision*recall) / (precision + recall) if (precision + recall) !=0 else 0\n",
    "    print(f\"F1 score: {f1_measure}\")\n",
    "    accuracy = (true_pos+true_neg) / (true_pos+false_pos+true_neg+false_neg)\n",
    "    print(f\"Accuracy: {accuracy}\")\n",
    "    "
   ]
  },
  {
   "cell_type": "code",
   "execution_count": 439,
   "metadata": {},
   "outputs": [
    {
     "name": "stdout",
     "output_type": "stream",
     "text": [
      "Precision: 0.7272727272727273\n",
      "Recall: 1.0\n",
      "F1 score: 0.8421052631578948\n",
      "Accuracy: 0.7272727272727273\n"
     ]
    }
   ],
   "source": [
    "evaluate_pipeline(lr_results)"
   ]
  },
  {
   "cell_type": "markdown",
   "metadata": {},
   "source": [
    "### Decision Tree Classifier"
   ]
  },
  {
   "cell_type": "code",
   "execution_count": 440,
   "metadata": {},
   "outputs": [],
   "source": [
    "# Bild pipeline -> reuse assembler and scaler from above\n",
    "\n",
    "# classifier \n",
    "dtc = DecisionTreeClassifier()\n",
    "\n",
    "# pipeline \n",
    "\n",
    "dtc_pipeline = Pipeline(stages=[assembler,scaler,dtc])"
   ]
  },
  {
   "cell_type": "code",
   "execution_count": 441,
   "metadata": {},
   "outputs": [],
   "source": [
    "# Train model\n",
    "dtc_model = dtc_pipeline.fit(train)"
   ]
  },
  {
   "cell_type": "code",
   "execution_count": 442,
   "metadata": {},
   "outputs": [],
   "source": [
    "# Make predictions \n",
    "dtc_results = dtc_model.transform(test)"
   ]
  },
  {
   "cell_type": "code",
   "execution_count": 443,
   "metadata": {},
   "outputs": [
    {
     "data": {
      "text/plain": [
       "[Row(userId='11', female=1, thumb_ups=40, thumb_downs=9, errors=1, support_enquiries=3, label=0, last_level_paid=0, referrals=0, playlists=20, downgrades=1, upgrades=2, songs=647, avr_songs_per_sessions=46.89622641509434, total_length_streamed=159669.96304000012, artists=534, sessions=16, days_using_service=53, user_agents=1, locations=1, NumFeatures=DenseVector([1.0, 40.0, 9.0, 1.0, 3.0, 0.0, 0.0, 20.0, 1.0, 2.0, 647.0, 647.0, 46.8962, 159669.963, 534.0, 16.0, 53.0, 1.0, 1.0]), features=DenseVector([1.0846, -0.214, -0.1263, -0.0209, -0.4762, 0.0, 0.0, -0.2559, 1.442, 1.8539, -0.3274, -0.3274, -0.6742, -0.3338, -0.2429, 0.2846, 0.6436, 0.0, 0.0]), rawPrediction=DenseVector([67.0, 0.0]), probability=DenseVector([1.0, 0.0]), prediction=0.0)]"
      ]
     },
     "execution_count": 443,
     "metadata": {},
     "output_type": "execute_result"
    }
   ],
   "source": [
    "dtc_results.take(1)"
   ]
  },
  {
   "cell_type": "code",
   "execution_count": 444,
   "metadata": {},
   "outputs": [
    {
     "ename": "AnalysisException",
     "evalue": "'Resolved attribute(s) prediction#177523 missing from label#127153,days_using_service#55974,avr_songs_per_sessions#55966,sessions#55972L,total_length_streamed#55968,errors#55948L,locations#55978L,thumb_downs#55946L,probability#132122,upgrades#55962L,rawPrediction#132098,userId#51839,support_enquiries#55950L,user_agents#55976L,prediction#132147,female#55942,last_level_paid#55954,playlists#55958L,songs#55964L,NumFeatures#132053,referrals#55956L,thumb_ups#55944L,downgrades#55960L,features#132075,artists#55970L in operator !Filter ((prediction#177523 = 0.0) && (label#127153 = 0)). Attribute(s) with the same name appear in the operation: prediction. Please check if the right attribute(s) are used.;;\\n!Filter ((prediction#177523 = 0.0) && (label#127153 = 0))\\n+- Project [userId#51839, female#55942, thumb_ups#55944L, thumb_downs#55946L, errors#55948L, support_enquiries#55950L, label#127153, last_level_paid#55954, referrals#55956L, playlists#55958L, downgrades#55960L, upgrades#55962L, songs#55964L, avr_songs_per_sessions#55966, total_length_streamed#55968, artists#55970L, sessions#55972L, days_using_service#55974, user_agents#55976L, locations#55978L, NumFeatures#132053, features#132075, rawPrediction#132098, probability#132122, UDF(rawPrediction#132098) AS prediction#132147]\\n   +- Project [userId#51839, female#55942, thumb_ups#55944L, thumb_downs#55946L, errors#55948L, support_enquiries#55950L, label#127153, last_level_paid#55954, referrals#55956L, playlists#55958L, downgrades#55960L, upgrades#55962L, songs#55964L, avr_songs_per_sessions#55966, total_length_streamed#55968, artists#55970L, sessions#55972L, days_using_service#55974, user_agents#55976L, locations#55978L, NumFeatures#132053, features#132075, rawPrediction#132098, UDF(rawPrediction#132098) AS probability#132122]\\n      +- Project [userId#51839, female#55942, thumb_ups#55944L, thumb_downs#55946L, errors#55948L, support_enquiries#55950L, label#127153, last_level_paid#55954, referrals#55956L, playlists#55958L, downgrades#55960L, upgrades#55962L, songs#55964L, avr_songs_per_sessions#55966, total_length_streamed#55968, artists#55970L, sessions#55972L, days_using_service#55974, user_agents#55976L, locations#55978L, NumFeatures#132053, features#132075, UDF(features#132075) AS rawPrediction#132098]\\n         +- Project [userId#51839, female#55942, thumb_ups#55944L, thumb_downs#55946L, errors#55948L, support_enquiries#55950L, label#127153, last_level_paid#55954, referrals#55956L, playlists#55958L, downgrades#55960L, upgrades#55962L, songs#55964L, avr_songs_per_sessions#55966, total_length_streamed#55968, artists#55970L, sessions#55972L, days_using_service#55974, user_agents#55976L, locations#55978L, NumFeatures#132053, UDF(NumFeatures#132053) AS features#132075]\\n            +- Project [userId#51839, female#55942, thumb_ups#55944L, thumb_downs#55946L, errors#55948L, support_enquiries#55950L, label#127153, last_level_paid#55954, referrals#55956L, playlists#55958L, downgrades#55960L, upgrades#55962L, songs#55964L, avr_songs_per_sessions#55966, total_length_streamed#55968, artists#55970L, sessions#55972L, days_using_service#55974, user_agents#55976L, locations#55978L, UDF(named_struct(female_double_VectorAssembler_36545c496291, cast(female#55942 as double), thumb_ups_double_VectorAssembler_36545c496291, cast(thumb_ups#55944L as double), thumb_downs_double_VectorAssembler_36545c496291, cast(thumb_downs#55946L as double), errors_double_VectorAssembler_36545c496291, cast(errors#55948L as double), support_enquiries_double_VectorAssembler_36545c496291, cast(support_enquiries#55950L as double), last_level_paid_double_VectorAssembler_36545c496291, cast(last_level_paid#55954 as double), referrals_double_VectorAssembler_36545c496291, cast(referrals#55956L as double), playlists_double_VectorAssembler_36545c496291, cast(playlists#55958L as double), downgrades_double_VectorAssembler_36545c496291, cast(downgrades#55960L as double), upgrades_double_VectorAssembler_36545c496291, cast(upgrades#55962L as double), songs_double_VectorAssembler_36545c496291, cast(songs#55964L as double), songs_double_VectorAssembler_36545c496291, cast(songs#55964L as double), ... 14 more fields)) AS NumFeatures#132053]\\n               +- Sample 0.0, 0.5, false, 123\\n                  +- Sort [userId#51839 ASC NULLS FIRST, female#55942 ASC NULLS FIRST, thumb_ups#55944L ASC NULLS FIRST, thumb_downs#55946L ASC NULLS FIRST, errors#55948L ASC NULLS FIRST, support_enquiries#55950L ASC NULLS FIRST, label#127153 ASC NULLS FIRST, last_level_paid#55954 ASC NULLS FIRST, referrals#55956L ASC NULLS FIRST, playlists#55958L ASC NULLS FIRST, downgrades#55960L ASC NULLS FIRST, upgrades#55962L ASC NULLS FIRST, songs#55964L ASC NULLS FIRST, avr_songs_per_sessions#55966 ASC NULLS FIRST, total_length_streamed#55968 ASC NULLS FIRST, artists#55970L ASC NULLS FIRST, sessions#55972L ASC NULLS FIRST, days_using_service#55974 ASC NULLS FIRST, user_agents#55976L ASC NULLS FIRST, locations#55978L ASC NULLS FIRST], false\\n                     +- Sample 0.8, 1.0, false, 123\\n                        +- Sort [userId#51839 ASC NULLS FIRST, female#55942 ASC NULLS FIRST, thumb_ups#55944L ASC NULLS FIRST, thumb_downs#55946L ASC NULLS FIRST, errors#55948L ASC NULLS FIRST, support_enquiries#55950L ASC NULLS FIRST, label#127153 ASC NULLS FIRST, last_level_paid#55954 ASC NULLS FIRST, referrals#55956L ASC NULLS FIRST, playlists#55958L ASC NULLS FIRST, downgrades#55960L ASC NULLS FIRST, upgrades#55962L ASC NULLS FIRST, songs#55964L ASC NULLS FIRST, avr_songs_per_sessions#55966 ASC NULLS FIRST, total_length_streamed#55968 ASC NULLS FIRST, artists#55970L ASC NULLS FIRST, sessions#55972L ASC NULLS FIRST, days_using_service#55974 ASC NULLS FIRST, user_agents#55976L ASC NULLS FIRST, locations#55978L ASC NULLS FIRST], false\\n                           +- Project [userId#51839, female#55942, thumb_ups#55944L, thumb_downs#55946L, errors#55948L, support_enquiries#55950L, churn#55952 AS label#127153, last_level_paid#55954, referrals#55956L, playlists#55958L, downgrades#55960L, upgrades#55962L, songs#55964L, avr_songs_per_sessions#55966, total_length_streamed#55968, artists#55970L, sessions#55972L, days_using_service#55974, user_agents#55976L, locations#55978L]\\n                              +- Aggregate [userId#51839], [userId#51839, max(female#53364) AS female#55942, sum(cast(CASE WHEN (page#51832 = Thumbs Up) THEN 1 ELSE 0 END as bigint)) AS thumb_ups#55944L, sum(cast(CASE WHEN (page#51832 = Thumbs Down) THEN 1 ELSE 0 END as bigint)) AS thumb_downs#55946L, sum(cast(CASE WHEN (page#51832 = Error) THEN 1 ELSE 0 END as bigint)) AS errors#55948L, sum(cast(CASE WHEN (page#51832 = Help) THEN 1 ELSE 0 END as bigint)) AS support_enquiries#55950L, max(churn#53231) AS churn#55952, max(last_level_paid#53442) AS last_level_paid#55954, sum(cast(CASE WHEN (page#51832 = Add Firend) THEN 1 ELSE 0 END as bigint)) AS referrals#55956L, sum(cast(CASE WHEN (page#51832 = Add to Playlist) THEN 1 ELSE 0 END as bigint)) AS playlists#55958L, sum(cast(CASE WHEN (page#51832 = Submit Downgrade) THEN 1 ELSE 0 END as bigint)) AS downgrades#55960L, sum(cast(CASE WHEN (page#51832 = Submit Upgrade) THEN 1 ELSE 0 END as bigint)) AS upgrades#55962L, sum(cast(CASE WHEN (page#51832 = NextSong) THEN 1 ELSE 0 END as bigint)) AS songs#55964L, avg(itemInSession#51826L) AS avr_songs_per_sessions#55966, sum(length#51828) AS total_length_streamed#55968, count(distinct Artist#51822) AS artists#55970L, count(distinct sessionId#51834L) AS sessions#55972L, first(days_using_service#53414, false) AS days_using_service#55974, count(distinct userAgent#51838) AS user_agents#55976L, count(distinct location#51830) AS locations#55978L]\\n                                 +- Project [artist#51822, auth#51823, firstName#51824, gender#51825, itemInSession#51826L, lastName#51827, length#51828, level#51829, location#51830, method#51831, page#51832, registration#51833L, sessionId#51834L, song#51835, status#51836L, ts#51837L, userAgent#51838, userId#51839, registered#53082, timestamp#53110, churn#53231, female#53364, paid_plan#53388, days_using_service#53414, last_level_paid#53442]\\n                                    +- Project [artist#51822, auth#51823, firstName#51824, gender#51825, itemInSession#51826L, lastName#51827, length#51828, level#51829, location#51830, method#51831, page#51832, registration#51833L, sessionId#51834L, song#51835, status#51836L, ts#51837L, userAgent#51838, userId#51839, registered#53082, timestamp#53110, churn#53231, female#53364, paid_plan#53388, days_using_service#53414, ... 2 more fields]\\n                                       +- Window [last(paid_plan#53388, false) windowspecdefinition(userID#51839, timestamp#53110 DESC NULLS LAST, specifiedwindowframe(RangeFrame, unboundedpreceding$(), unboundedfollowing$())) AS last_level_paid#53442], [userID#51839], [timestamp#53110 DESC NULLS LAST]\\n                                          +- Project [artist#51822, auth#51823, firstName#51824, gender#51825, itemInSession#51826L, lastName#51827, length#51828, level#51829, location#51830, method#51831, page#51832, registration#51833L, sessionId#51834L, song#51835, status#51836L, ts#51837L, userAgent#51838, userId#51839, registered#53082, timestamp#53110, churn#53231, female#53364, paid_plan#53388, days_using_service#53414]\\n                                             +- Project [artist#51822, auth#51823, firstName#51824, gender#51825, itemInSession#51826L, lastName#51827, length#51828, level#51829, location#51830, method#51831, page#51832, registration#51833L, sessionId#51834L, song#51835, status#51836L, ts#51837L, userAgent#51838, userId#51839, registered#53082, timestamp#53110, churn#53231, female#53364, paid_plan#53388, days_using_service#53414]\\n                                                +- Project [artist#51822, auth#51823, firstName#51824, gender#51825, itemInSession#51826L, lastName#51827, length#51828, level#51829, location#51830, method#51831, page#51832, registration#51833L, sessionId#51834L, song#51835, status#51836L, ts#51837L, userAgent#51838, userId#51839, registered#53082, timestamp#53110, churn#53231, female#53364, paid_plan#53388, _we0#53415, ... 2 more fields]\\n                                                   +- Window [first(timestamp#53110, false) windowspecdefinition(userID#51839, timestamp#53110 DESC NULLS LAST, specifiedwindowframe(RangeFrame, unboundedpreceding$(), unboundedfollowing$())) AS _we0#53415, last(timestamp#53110, false) windowspecdefinition(userID#51839, timestamp#53110 DESC NULLS LAST, specifiedwindowframe(RangeFrame, unboundedpreceding$(), unboundedfollowing$())) AS _we1#53416], [userID#51839], [timestamp#53110 DESC NULLS LAST]\\n                                                      +- Project [artist#51822, auth#51823, firstName#51824, gender#51825, itemInSession#51826L, lastName#51827, length#51828, level#51829, location#51830, method#51831, page#51832, registration#51833L, sessionId#51834L, song#51835, status#51836L, ts#51837L, userAgent#51838, userId#51839, registered#53082, timestamp#53110, churn#53231, female#53364, paid_plan#53388]\\n                                                         +- Project [artist#51822, auth#51823, firstName#51824, gender#51825, itemInSession#51826L, lastName#51827, length#51828, level#51829, location#51830, method#51831, page#51832, registration#51833L, sessionId#51834L, song#51835, status#51836L, ts#51837L, userAgent#51838, userId#51839, registered#53082, timestamp#53110, churn#53231, female#53364, <lambda>(level#51829) AS paid_plan#53388]\\n                                                            +- Project [artist#51822, auth#51823, firstName#51824, gender#51825, itemInSession#51826L, lastName#51827, length#51828, level#51829, location#51830, method#51831, page#51832, registration#51833L, sessionId#51834L, song#51835, status#51836L, ts#51837L, userAgent#51838, userId#51839, registered#53082, timestamp#53110, churn#53231, <lambda>(gender#51825) AS female#53364]\\n                                                               +- Project [artist#51822, auth#51823, firstName#51824, gender#51825, itemInSession#51826L, lastName#51827, length#51828, level#51829, location#51830, method#51831, page#51832, registration#51833L, sessionId#51834L, song#51835, status#51836L, ts#51837L, userAgent#51838, userId#51839, registered#53082, timestamp#53110, <lambda>(page#51832) AS churn#53231]\\n                                                                  +- Project [artist#51822, auth#51823, firstName#51824, gender#51825, itemInSession#51826L, lastName#51827, length#51828, level#51829, location#51830, method#51831, page#51832, registration#51833L, sessionId#51834L, song#51835, status#51836L, ts#51837L, userAgent#51838, userId#51839, registered#53082, cast((cast(ts#51837L as double) / cast(1000 as double)) as timestamp) AS timestamp#53110]\\n                                                                     +- Project [artist#51822, auth#51823, firstName#51824, gender#51825, itemInSession#51826L, lastName#51827, length#51828, level#51829, location#51830, method#51831, page#51832, registration#51833L, sessionId#51834L, song#51835, status#51836L, ts#51837L, userAgent#51838, userId#51839, cast((cast(registration#51833L as double) / cast(1000 as double)) as timestamp) AS registered#53082]\\n                                                                        +- Filter NOT (userId#51839 = )\\n                                                                           +- Filter AtLeastNNulls(n, userId#51839,sessionId#51834L)\\n                                                                              +- Relation[artist#51822,auth#51823,firstName#51824,gender#51825,itemInSession#51826L,lastName#51827,length#51828,level#51829,location#51830,method#51831,page#51832,registration#51833L,sessionId#51834L,song#51835,status#51836L,ts#51837L,userAgent#51838,userId#51839] json\\n'",
     "output_type": "error",
     "traceback": [
      "\u001b[0;31m---------------------------------------------------------------------------\u001b[0m",
      "\u001b[0;31mPy4JJavaError\u001b[0m                             Traceback (most recent call last)",
      "\u001b[0;32m/miniconda2/envs/spark_env/lib/python3.6/site-packages/pyspark/sql/utils.py\u001b[0m in \u001b[0;36mdeco\u001b[0;34m(*a, **kw)\u001b[0m\n\u001b[1;32m     62\u001b[0m         \u001b[0;32mtry\u001b[0m\u001b[0;34m:\u001b[0m\u001b[0;34m\u001b[0m\u001b[0;34m\u001b[0m\u001b[0m\n\u001b[0;32m---> 63\u001b[0;31m             \u001b[0;32mreturn\u001b[0m \u001b[0mf\u001b[0m\u001b[0;34m(\u001b[0m\u001b[0;34m*\u001b[0m\u001b[0ma\u001b[0m\u001b[0;34m,\u001b[0m \u001b[0;34m**\u001b[0m\u001b[0mkw\u001b[0m\u001b[0;34m)\u001b[0m\u001b[0;34m\u001b[0m\u001b[0;34m\u001b[0m\u001b[0m\n\u001b[0m\u001b[1;32m     64\u001b[0m         \u001b[0;32mexcept\u001b[0m \u001b[0mpy4j\u001b[0m\u001b[0;34m.\u001b[0m\u001b[0mprotocol\u001b[0m\u001b[0;34m.\u001b[0m\u001b[0mPy4JJavaError\u001b[0m \u001b[0;32mas\u001b[0m \u001b[0me\u001b[0m\u001b[0;34m:\u001b[0m\u001b[0;34m\u001b[0m\u001b[0;34m\u001b[0m\u001b[0m\n",
      "\u001b[0;32m/miniconda2/envs/spark_env/lib/python3.6/site-packages/py4j/protocol.py\u001b[0m in \u001b[0;36mget_return_value\u001b[0;34m(answer, gateway_client, target_id, name)\u001b[0m\n\u001b[1;32m    327\u001b[0m                     \u001b[0;34m\"An error occurred while calling {0}{1}{2}.\\n\"\u001b[0m\u001b[0;34m.\u001b[0m\u001b[0;34m\u001b[0m\u001b[0;34m\u001b[0m\u001b[0m\n\u001b[0;32m--> 328\u001b[0;31m                     format(target_id, \".\", name), value)\n\u001b[0m\u001b[1;32m    329\u001b[0m             \u001b[0;32melse\u001b[0m\u001b[0;34m:\u001b[0m\u001b[0;34m\u001b[0m\u001b[0;34m\u001b[0m\u001b[0m\n",
      "\u001b[0;31mPy4JJavaError\u001b[0m: An error occurred while calling o8141.filter.\n: org.apache.spark.sql.AnalysisException: Resolved attribute(s) prediction#177523 missing from label#127153,days_using_service#55974,avr_songs_per_sessions#55966,sessions#55972L,total_length_streamed#55968,errors#55948L,locations#55978L,thumb_downs#55946L,probability#132122,upgrades#55962L,rawPrediction#132098,userId#51839,support_enquiries#55950L,user_agents#55976L,prediction#132147,female#55942,last_level_paid#55954,playlists#55958L,songs#55964L,NumFeatures#132053,referrals#55956L,thumb_ups#55944L,downgrades#55960L,features#132075,artists#55970L in operator !Filter ((prediction#177523 = 0.0) && (label#127153 = 0)). Attribute(s) with the same name appear in the operation: prediction. Please check if the right attribute(s) are used.;;\n!Filter ((prediction#177523 = 0.0) && (label#127153 = 0))\n+- Project [userId#51839, female#55942, thumb_ups#55944L, thumb_downs#55946L, errors#55948L, support_enquiries#55950L, label#127153, last_level_paid#55954, referrals#55956L, playlists#55958L, downgrades#55960L, upgrades#55962L, songs#55964L, avr_songs_per_sessions#55966, total_length_streamed#55968, artists#55970L, sessions#55972L, days_using_service#55974, user_agents#55976L, locations#55978L, NumFeatures#132053, features#132075, rawPrediction#132098, probability#132122, UDF(rawPrediction#132098) AS prediction#132147]\n   +- Project [userId#51839, female#55942, thumb_ups#55944L, thumb_downs#55946L, errors#55948L, support_enquiries#55950L, label#127153, last_level_paid#55954, referrals#55956L, playlists#55958L, downgrades#55960L, upgrades#55962L, songs#55964L, avr_songs_per_sessions#55966, total_length_streamed#55968, artists#55970L, sessions#55972L, days_using_service#55974, user_agents#55976L, locations#55978L, NumFeatures#132053, features#132075, rawPrediction#132098, UDF(rawPrediction#132098) AS probability#132122]\n      +- Project [userId#51839, female#55942, thumb_ups#55944L, thumb_downs#55946L, errors#55948L, support_enquiries#55950L, label#127153, last_level_paid#55954, referrals#55956L, playlists#55958L, downgrades#55960L, upgrades#55962L, songs#55964L, avr_songs_per_sessions#55966, total_length_streamed#55968, artists#55970L, sessions#55972L, days_using_service#55974, user_agents#55976L, locations#55978L, NumFeatures#132053, features#132075, UDF(features#132075) AS rawPrediction#132098]\n         +- Project [userId#51839, female#55942, thumb_ups#55944L, thumb_downs#55946L, errors#55948L, support_enquiries#55950L, label#127153, last_level_paid#55954, referrals#55956L, playlists#55958L, downgrades#55960L, upgrades#55962L, songs#55964L, avr_songs_per_sessions#55966, total_length_streamed#55968, artists#55970L, sessions#55972L, days_using_service#55974, user_agents#55976L, locations#55978L, NumFeatures#132053, UDF(NumFeatures#132053) AS features#132075]\n            +- Project [userId#51839, female#55942, thumb_ups#55944L, thumb_downs#55946L, errors#55948L, support_enquiries#55950L, label#127153, last_level_paid#55954, referrals#55956L, playlists#55958L, downgrades#55960L, upgrades#55962L, songs#55964L, avr_songs_per_sessions#55966, total_length_streamed#55968, artists#55970L, sessions#55972L, days_using_service#55974, user_agents#55976L, locations#55978L, UDF(named_struct(female_double_VectorAssembler_36545c496291, cast(female#55942 as double), thumb_ups_double_VectorAssembler_36545c496291, cast(thumb_ups#55944L as double), thumb_downs_double_VectorAssembler_36545c496291, cast(thumb_downs#55946L as double), errors_double_VectorAssembler_36545c496291, cast(errors#55948L as double), support_enquiries_double_VectorAssembler_36545c496291, cast(support_enquiries#55950L as double), last_level_paid_double_VectorAssembler_36545c496291, cast(last_level_paid#55954 as double), referrals_double_VectorAssembler_36545c496291, cast(referrals#55956L as double), playlists_double_VectorAssembler_36545c496291, cast(playlists#55958L as double), downgrades_double_VectorAssembler_36545c496291, cast(downgrades#55960L as double), upgrades_double_VectorAssembler_36545c496291, cast(upgrades#55962L as double), songs_double_VectorAssembler_36545c496291, cast(songs#55964L as double), songs_double_VectorAssembler_36545c496291, cast(songs#55964L as double), ... 14 more fields)) AS NumFeatures#132053]\n               +- Sample 0.0, 0.5, false, 123\n                  +- Sort [userId#51839 ASC NULLS FIRST, female#55942 ASC NULLS FIRST, thumb_ups#55944L ASC NULLS FIRST, thumb_downs#55946L ASC NULLS FIRST, errors#55948L ASC NULLS FIRST, support_enquiries#55950L ASC NULLS FIRST, label#127153 ASC NULLS FIRST, last_level_paid#55954 ASC NULLS FIRST, referrals#55956L ASC NULLS FIRST, playlists#55958L ASC NULLS FIRST, downgrades#55960L ASC NULLS FIRST, upgrades#55962L ASC NULLS FIRST, songs#55964L ASC NULLS FIRST, avr_songs_per_sessions#55966 ASC NULLS FIRST, total_length_streamed#55968 ASC NULLS FIRST, artists#55970L ASC NULLS FIRST, sessions#55972L ASC NULLS FIRST, days_using_service#55974 ASC NULLS FIRST, user_agents#55976L ASC NULLS FIRST, locations#55978L ASC NULLS FIRST], false\n                     +- Sample 0.8, 1.0, false, 123\n                        +- Sort [userId#51839 ASC NULLS FIRST, female#55942 ASC NULLS FIRST, thumb_ups#55944L ASC NULLS FIRST, thumb_downs#55946L ASC NULLS FIRST, errors#55948L ASC NULLS FIRST, support_enquiries#55950L ASC NULLS FIRST, label#127153 ASC NULLS FIRST, last_level_paid#55954 ASC NULLS FIRST, referrals#55956L ASC NULLS FIRST, playlists#55958L ASC NULLS FIRST, downgrades#55960L ASC NULLS FIRST, upgrades#55962L ASC NULLS FIRST, songs#55964L ASC NULLS FIRST, avr_songs_per_sessions#55966 ASC NULLS FIRST, total_length_streamed#55968 ASC NULLS FIRST, artists#55970L ASC NULLS FIRST, sessions#55972L ASC NULLS FIRST, days_using_service#55974 ASC NULLS FIRST, user_agents#55976L ASC NULLS FIRST, locations#55978L ASC NULLS FIRST], false\n                           +- Project [userId#51839, female#55942, thumb_ups#55944L, thumb_downs#55946L, errors#55948L, support_enquiries#55950L, churn#55952 AS label#127153, last_level_paid#55954, referrals#55956L, playlists#55958L, downgrades#55960L, upgrades#55962L, songs#55964L, avr_songs_per_sessions#55966, total_length_streamed#55968, artists#55970L, sessions#55972L, days_using_service#55974, user_agents#55976L, locations#55978L]\n                              +- Aggregate [userId#51839], [userId#51839, max(female#53364) AS female#55942, sum(cast(CASE WHEN (page#51832 = Thumbs Up) THEN 1 ELSE 0 END as bigint)) AS thumb_ups#55944L, sum(cast(CASE WHEN (page#51832 = Thumbs Down) THEN 1 ELSE 0 END as bigint)) AS thumb_downs#55946L, sum(cast(CASE WHEN (page#51832 = Error) THEN 1 ELSE 0 END as bigint)) AS errors#55948L, sum(cast(CASE WHEN (page#51832 = Help) THEN 1 ELSE 0 END as bigint)) AS support_enquiries#55950L, max(churn#53231) AS churn#55952, max(last_level_paid#53442) AS last_level_paid#55954, sum(cast(CASE WHEN (page#51832 = Add Firend) THEN 1 ELSE 0 END as bigint)) AS referrals#55956L, sum(cast(CASE WHEN (page#51832 = Add to Playlist) THEN 1 ELSE 0 END as bigint)) AS playlists#55958L, sum(cast(CASE WHEN (page#51832 = Submit Downgrade) THEN 1 ELSE 0 END as bigint)) AS downgrades#55960L, sum(cast(CASE WHEN (page#51832 = Submit Upgrade) THEN 1 ELSE 0 END as bigint)) AS upgrades#55962L, sum(cast(CASE WHEN (page#51832 = NextSong) THEN 1 ELSE 0 END as bigint)) AS songs#55964L, avg(itemInSession#51826L) AS avr_songs_per_sessions#55966, sum(length#51828) AS total_length_streamed#55968, count(distinct Artist#51822) AS artists#55970L, count(distinct sessionId#51834L) AS sessions#55972L, first(days_using_service#53414, false) AS days_using_service#55974, count(distinct userAgent#51838) AS user_agents#55976L, count(distinct location#51830) AS locations#55978L]\n                                 +- Project [artist#51822, auth#51823, firstName#51824, gender#51825, itemInSession#51826L, lastName#51827, length#51828, level#51829, location#51830, method#51831, page#51832, registration#51833L, sessionId#51834L, song#51835, status#51836L, ts#51837L, userAgent#51838, userId#51839, registered#53082, timestamp#53110, churn#53231, female#53364, paid_plan#53388, days_using_service#53414, last_level_paid#53442]\n                                    +- Project [artist#51822, auth#51823, firstName#51824, gender#51825, itemInSession#51826L, lastName#51827, length#51828, level#51829, location#51830, method#51831, page#51832, registration#51833L, sessionId#51834L, song#51835, status#51836L, ts#51837L, userAgent#51838, userId#51839, registered#53082, timestamp#53110, churn#53231, female#53364, paid_plan#53388, days_using_service#53414, ... 2 more fields]\n                                       +- Window [last(paid_plan#53388, false) windowspecdefinition(userID#51839, timestamp#53110 DESC NULLS LAST, specifiedwindowframe(RangeFrame, unboundedpreceding$(), unboundedfollowing$())) AS last_level_paid#53442], [userID#51839], [timestamp#53110 DESC NULLS LAST]\n                                          +- Project [artist#51822, auth#51823, firstName#51824, gender#51825, itemInSession#51826L, lastName#51827, length#51828, level#51829, location#51830, method#51831, page#51832, registration#51833L, sessionId#51834L, song#51835, status#51836L, ts#51837L, userAgent#51838, userId#51839, registered#53082, timestamp#53110, churn#53231, female#53364, paid_plan#53388, days_using_service#53414]\n                                             +- Project [artist#51822, auth#51823, firstName#51824, gender#51825, itemInSession#51826L, lastName#51827, length#51828, level#51829, location#51830, method#51831, page#51832, registration#51833L, sessionId#51834L, song#51835, status#51836L, ts#51837L, userAgent#51838, userId#51839, registered#53082, timestamp#53110, churn#53231, female#53364, paid_plan#53388, days_using_service#53414]\n                                                +- Project [artist#51822, auth#51823, firstName#51824, gender#51825, itemInSession#51826L, lastName#51827, length#51828, level#51829, location#51830, method#51831, page#51832, registration#51833L, sessionId#51834L, song#51835, status#51836L, ts#51837L, userAgent#51838, userId#51839, registered#53082, timestamp#53110, churn#53231, female#53364, paid_plan#53388, _we0#53415, ... 2 more fields]\n                                                   +- Window [first(timestamp#53110, false) windowspecdefinition(userID#51839, timestamp#53110 DESC NULLS LAST, specifiedwindowframe(RangeFrame, unboundedpreceding$(), unboundedfollowing$())) AS _we0#53415, last(timestamp#53110, false) windowspecdefinition(userID#51839, timestamp#53110 DESC NULLS LAST, specifiedwindowframe(RangeFrame, unboundedpreceding$(), unboundedfollowing$())) AS _we1#53416], [userID#51839], [timestamp#53110 DESC NULLS LAST]\n                                                      +- Project [artist#51822, auth#51823, firstName#51824, gender#51825, itemInSession#51826L, lastName#51827, length#51828, level#51829, location#51830, method#51831, page#51832, registration#51833L, sessionId#51834L, song#51835, status#51836L, ts#51837L, userAgent#51838, userId#51839, registered#53082, timestamp#53110, churn#53231, female#53364, paid_plan#53388]\n                                                         +- Project [artist#51822, auth#51823, firstName#51824, gender#51825, itemInSession#51826L, lastName#51827, length#51828, level#51829, location#51830, method#51831, page#51832, registration#51833L, sessionId#51834L, song#51835, status#51836L, ts#51837L, userAgent#51838, userId#51839, registered#53082, timestamp#53110, churn#53231, female#53364, <lambda>(level#51829) AS paid_plan#53388]\n                                                            +- Project [artist#51822, auth#51823, firstName#51824, gender#51825, itemInSession#51826L, lastName#51827, length#51828, level#51829, location#51830, method#51831, page#51832, registration#51833L, sessionId#51834L, song#51835, status#51836L, ts#51837L, userAgent#51838, userId#51839, registered#53082, timestamp#53110, churn#53231, <lambda>(gender#51825) AS female#53364]\n                                                               +- Project [artist#51822, auth#51823, firstName#51824, gender#51825, itemInSession#51826L, lastName#51827, length#51828, level#51829, location#51830, method#51831, page#51832, registration#51833L, sessionId#51834L, song#51835, status#51836L, ts#51837L, userAgent#51838, userId#51839, registered#53082, timestamp#53110, <lambda>(page#51832) AS churn#53231]\n                                                                  +- Project [artist#51822, auth#51823, firstName#51824, gender#51825, itemInSession#51826L, lastName#51827, length#51828, level#51829, location#51830, method#51831, page#51832, registration#51833L, sessionId#51834L, song#51835, status#51836L, ts#51837L, userAgent#51838, userId#51839, registered#53082, cast((cast(ts#51837L as double) / cast(1000 as double)) as timestamp) AS timestamp#53110]\n                                                                     +- Project [artist#51822, auth#51823, firstName#51824, gender#51825, itemInSession#51826L, lastName#51827, length#51828, level#51829, location#51830, method#51831, page#51832, registration#51833L, sessionId#51834L, song#51835, status#51836L, ts#51837L, userAgent#51838, userId#51839, cast((cast(registration#51833L as double) / cast(1000 as double)) as timestamp) AS registered#53082]\n                                                                        +- Filter NOT (userId#51839 = )\n                                                                           +- Filter AtLeastNNulls(n, userId#51839,sessionId#51834L)\n                                                                              +- Relation[artist#51822,auth#51823,firstName#51824,gender#51825,itemInSession#51826L,lastName#51827,length#51828,level#51829,location#51830,method#51831,page#51832,registration#51833L,sessionId#51834L,song#51835,status#51836L,ts#51837L,userAgent#51838,userId#51839] json\n\n\tat org.apache.spark.sql.catalyst.analysis.CheckAnalysis$class.failAnalysis(CheckAnalysis.scala:43)\n\tat org.apache.spark.sql.catalyst.analysis.Analyzer.failAnalysis(Analyzer.scala:95)\n\tat org.apache.spark.sql.catalyst.analysis.CheckAnalysis$$anonfun$checkAnalysis$1.apply(CheckAnalysis.scala:369)\n\tat org.apache.spark.sql.catalyst.analysis.CheckAnalysis$$anonfun$checkAnalysis$1.apply(CheckAnalysis.scala:86)\n\tat org.apache.spark.sql.catalyst.trees.TreeNode.foreachUp(TreeNode.scala:127)\n\tat org.apache.spark.sql.catalyst.analysis.CheckAnalysis$class.checkAnalysis(CheckAnalysis.scala:86)\n\tat org.apache.spark.sql.catalyst.analysis.Analyzer.checkAnalysis(Analyzer.scala:95)\n\tat org.apache.spark.sql.catalyst.analysis.Analyzer$$anonfun$executeAndCheck$1.apply(Analyzer.scala:108)\n\tat org.apache.spark.sql.catalyst.analysis.Analyzer$$anonfun$executeAndCheck$1.apply(Analyzer.scala:105)\n\tat org.apache.spark.sql.catalyst.plans.logical.AnalysisHelper$.markInAnalyzer(AnalysisHelper.scala:201)\n\tat org.apache.spark.sql.catalyst.analysis.Analyzer.executeAndCheck(Analyzer.scala:105)\n\tat org.apache.spark.sql.execution.QueryExecution.analyzed$lzycompute(QueryExecution.scala:57)\n\tat org.apache.spark.sql.execution.QueryExecution.analyzed(QueryExecution.scala:55)\n\tat org.apache.spark.sql.execution.QueryExecution.assertAnalyzed(QueryExecution.scala:47)\n\tat org.apache.spark.sql.Dataset.<init>(Dataset.scala:176)\n\tat org.apache.spark.sql.Dataset.<init>(Dataset.scala:182)\n\tat org.apache.spark.sql.Dataset$.apply(Dataset.scala:64)\n\tat org.apache.spark.sql.Dataset.withTypedPlan(Dataset.scala:3417)\n\tat org.apache.spark.sql.Dataset.filter(Dataset.scala:1490)\n\tat sun.reflect.GeneratedMethodAccessor889.invoke(Unknown Source)\n\tat sun.reflect.DelegatingMethodAccessorImpl.invoke(DelegatingMethodAccessorImpl.java:43)\n\tat java.lang.reflect.Method.invoke(Method.java:498)\n\tat py4j.reflection.MethodInvoker.invoke(MethodInvoker.java:244)\n\tat py4j.reflection.ReflectionEngine.invoke(ReflectionEngine.java:357)\n\tat py4j.Gateway.invoke(Gateway.java:282)\n\tat py4j.commands.AbstractCommand.invokeMethod(AbstractCommand.java:132)\n\tat py4j.commands.CallCommand.execute(CallCommand.java:79)\n\tat py4j.GatewayConnection.run(GatewayConnection.java:238)\n\tat java.lang.Thread.run(Thread.java:745)\n",
      "\nDuring handling of the above exception, another exception occurred:\n",
      "\u001b[0;31mAnalysisException\u001b[0m                         Traceback (most recent call last)",
      "\u001b[0;32m<ipython-input-444-4c25bc2fe0f5>\u001b[0m in \u001b[0;36m<module>\u001b[0;34m\u001b[0m\n\u001b[1;32m      1\u001b[0m \u001b[0;31m# Evaluate\u001b[0m\u001b[0;34m\u001b[0m\u001b[0;34m\u001b[0m\u001b[0;34m\u001b[0m\u001b[0m\n\u001b[0;32m----> 2\u001b[0;31m \u001b[0mevaluate_pipeline\u001b[0m\u001b[0;34m(\u001b[0m\u001b[0mdtc_results\u001b[0m\u001b[0;34m)\u001b[0m\u001b[0;34m\u001b[0m\u001b[0;34m\u001b[0m\u001b[0m\n\u001b[0m",
      "\u001b[0;32m<ipython-input-438-bd6a320ce5e4>\u001b[0m in \u001b[0;36mevaluate_pipeline\u001b[0;34m(results)\u001b[0m\n\u001b[1;32m      1\u001b[0m \u001b[0;32mdef\u001b[0m \u001b[0mevaluate_pipeline\u001b[0m\u001b[0;34m(\u001b[0m\u001b[0mresults\u001b[0m\u001b[0;34m)\u001b[0m\u001b[0;34m:\u001b[0m\u001b[0;34m\u001b[0m\u001b[0;34m\u001b[0m\u001b[0m\n\u001b[0;32m----> 2\u001b[0;31m     \u001b[0mtrue_pos\u001b[0m \u001b[0;34m=\u001b[0m \u001b[0mlr_results\u001b[0m\u001b[0;34m.\u001b[0m\u001b[0mfilter\u001b[0m\u001b[0;34m(\u001b[0m\u001b[0;34m(\u001b[0m\u001b[0mresults\u001b[0m\u001b[0;34m.\u001b[0m\u001b[0mprediction\u001b[0m \u001b[0;34m==\u001b[0m\u001b[0;36m0.0\u001b[0m\u001b[0;34m)\u001b[0m \u001b[0;34m&\u001b[0m \u001b[0;34m(\u001b[0m\u001b[0mresults\u001b[0m\u001b[0;34m.\u001b[0m\u001b[0mlabel\u001b[0m \u001b[0;34m==\u001b[0m \u001b[0;36m0\u001b[0m\u001b[0;34m)\u001b[0m\u001b[0;34m)\u001b[0m\u001b[0;34m.\u001b[0m\u001b[0mcount\u001b[0m\u001b[0;34m(\u001b[0m\u001b[0;34m)\u001b[0m\u001b[0;34m\u001b[0m\u001b[0;34m\u001b[0m\u001b[0m\n\u001b[0m\u001b[1;32m      3\u001b[0m     \u001b[0mfalse_pos\u001b[0m \u001b[0;34m=\u001b[0m \u001b[0mlr_results\u001b[0m\u001b[0;34m.\u001b[0m\u001b[0mfilter\u001b[0m\u001b[0;34m(\u001b[0m\u001b[0;34m(\u001b[0m\u001b[0mresults\u001b[0m\u001b[0;34m.\u001b[0m\u001b[0mprediction\u001b[0m \u001b[0;34m==\u001b[0m\u001b[0;36m0.0\u001b[0m\u001b[0;34m)\u001b[0m \u001b[0;34m&\u001b[0m \u001b[0;34m(\u001b[0m\u001b[0mresults\u001b[0m\u001b[0;34m.\u001b[0m\u001b[0mlabel\u001b[0m \u001b[0;34m==\u001b[0m \u001b[0;36m1\u001b[0m\u001b[0;34m)\u001b[0m\u001b[0;34m)\u001b[0m\u001b[0;34m.\u001b[0m\u001b[0mcount\u001b[0m\u001b[0;34m(\u001b[0m\u001b[0;34m)\u001b[0m\u001b[0;34m\u001b[0m\u001b[0;34m\u001b[0m\u001b[0m\n\u001b[1;32m      4\u001b[0m     \u001b[0mtrue_neg\u001b[0m \u001b[0;34m=\u001b[0m \u001b[0mlr_results\u001b[0m\u001b[0;34m.\u001b[0m\u001b[0mfilter\u001b[0m\u001b[0;34m(\u001b[0m\u001b[0;34m(\u001b[0m\u001b[0mresults\u001b[0m\u001b[0;34m.\u001b[0m\u001b[0mprediction\u001b[0m \u001b[0;34m==\u001b[0m\u001b[0;36m1.0\u001b[0m\u001b[0;34m)\u001b[0m \u001b[0;34m&\u001b[0m \u001b[0;34m(\u001b[0m\u001b[0mresults\u001b[0m\u001b[0;34m.\u001b[0m\u001b[0mlabel\u001b[0m \u001b[0;34m==\u001b[0m \u001b[0;36m1\u001b[0m\u001b[0;34m)\u001b[0m\u001b[0;34m)\u001b[0m\u001b[0;34m.\u001b[0m\u001b[0mcount\u001b[0m\u001b[0;34m(\u001b[0m\u001b[0;34m)\u001b[0m\u001b[0;34m\u001b[0m\u001b[0;34m\u001b[0m\u001b[0m\n\u001b[1;32m      5\u001b[0m     \u001b[0mfalse_neg\u001b[0m \u001b[0;34m=\u001b[0m \u001b[0mlr_results\u001b[0m\u001b[0;34m.\u001b[0m\u001b[0mfilter\u001b[0m\u001b[0;34m(\u001b[0m\u001b[0;34m(\u001b[0m\u001b[0mresults\u001b[0m\u001b[0;34m.\u001b[0m\u001b[0mprediction\u001b[0m \u001b[0;34m==\u001b[0m\u001b[0;36m1.0\u001b[0m\u001b[0;34m)\u001b[0m \u001b[0;34m&\u001b[0m \u001b[0;34m(\u001b[0m\u001b[0mresults\u001b[0m\u001b[0;34m.\u001b[0m\u001b[0mlabel\u001b[0m \u001b[0;34m==\u001b[0m \u001b[0;36m0\u001b[0m\u001b[0;34m)\u001b[0m\u001b[0;34m)\u001b[0m\u001b[0;34m.\u001b[0m\u001b[0mcount\u001b[0m\u001b[0;34m(\u001b[0m\u001b[0;34m)\u001b[0m\u001b[0;34m\u001b[0m\u001b[0;34m\u001b[0m\u001b[0m\n",
      "\u001b[0;32m/miniconda2/envs/spark_env/lib/python3.6/site-packages/pyspark/sql/dataframe.py\u001b[0m in \u001b[0;36mfilter\u001b[0;34m(self, condition)\u001b[0m\n\u001b[1;32m   1359\u001b[0m             \u001b[0mjdf\u001b[0m \u001b[0;34m=\u001b[0m \u001b[0mself\u001b[0m\u001b[0;34m.\u001b[0m\u001b[0m_jdf\u001b[0m\u001b[0;34m.\u001b[0m\u001b[0mfilter\u001b[0m\u001b[0;34m(\u001b[0m\u001b[0mcondition\u001b[0m\u001b[0;34m)\u001b[0m\u001b[0;34m\u001b[0m\u001b[0;34m\u001b[0m\u001b[0m\n\u001b[1;32m   1360\u001b[0m         \u001b[0;32melif\u001b[0m \u001b[0misinstance\u001b[0m\u001b[0;34m(\u001b[0m\u001b[0mcondition\u001b[0m\u001b[0;34m,\u001b[0m \u001b[0mColumn\u001b[0m\u001b[0;34m)\u001b[0m\u001b[0;34m:\u001b[0m\u001b[0;34m\u001b[0m\u001b[0;34m\u001b[0m\u001b[0m\n\u001b[0;32m-> 1361\u001b[0;31m             \u001b[0mjdf\u001b[0m \u001b[0;34m=\u001b[0m \u001b[0mself\u001b[0m\u001b[0;34m.\u001b[0m\u001b[0m_jdf\u001b[0m\u001b[0;34m.\u001b[0m\u001b[0mfilter\u001b[0m\u001b[0;34m(\u001b[0m\u001b[0mcondition\u001b[0m\u001b[0;34m.\u001b[0m\u001b[0m_jc\u001b[0m\u001b[0;34m)\u001b[0m\u001b[0;34m\u001b[0m\u001b[0;34m\u001b[0m\u001b[0m\n\u001b[0m\u001b[1;32m   1362\u001b[0m         \u001b[0;32melse\u001b[0m\u001b[0;34m:\u001b[0m\u001b[0;34m\u001b[0m\u001b[0;34m\u001b[0m\u001b[0m\n\u001b[1;32m   1363\u001b[0m             \u001b[0;32mraise\u001b[0m \u001b[0mTypeError\u001b[0m\u001b[0;34m(\u001b[0m\u001b[0;34m\"condition should be string or Column\"\u001b[0m\u001b[0;34m)\u001b[0m\u001b[0;34m\u001b[0m\u001b[0;34m\u001b[0m\u001b[0m\n",
      "\u001b[0;32m/miniconda2/envs/spark_env/lib/python3.6/site-packages/py4j/java_gateway.py\u001b[0m in \u001b[0;36m__call__\u001b[0;34m(self, *args)\u001b[0m\n\u001b[1;32m   1255\u001b[0m         \u001b[0manswer\u001b[0m \u001b[0;34m=\u001b[0m \u001b[0mself\u001b[0m\u001b[0;34m.\u001b[0m\u001b[0mgateway_client\u001b[0m\u001b[0;34m.\u001b[0m\u001b[0msend_command\u001b[0m\u001b[0;34m(\u001b[0m\u001b[0mcommand\u001b[0m\u001b[0;34m)\u001b[0m\u001b[0;34m\u001b[0m\u001b[0;34m\u001b[0m\u001b[0m\n\u001b[1;32m   1256\u001b[0m         return_value = get_return_value(\n\u001b[0;32m-> 1257\u001b[0;31m             answer, self.gateway_client, self.target_id, self.name)\n\u001b[0m\u001b[1;32m   1258\u001b[0m \u001b[0;34m\u001b[0m\u001b[0m\n\u001b[1;32m   1259\u001b[0m         \u001b[0;32mfor\u001b[0m \u001b[0mtemp_arg\u001b[0m \u001b[0;32min\u001b[0m \u001b[0mtemp_args\u001b[0m\u001b[0;34m:\u001b[0m\u001b[0;34m\u001b[0m\u001b[0;34m\u001b[0m\u001b[0m\n",
      "\u001b[0;32m/miniconda2/envs/spark_env/lib/python3.6/site-packages/pyspark/sql/utils.py\u001b[0m in \u001b[0;36mdeco\u001b[0;34m(*a, **kw)\u001b[0m\n\u001b[1;32m     67\u001b[0m                                              e.java_exception.getStackTrace()))\n\u001b[1;32m     68\u001b[0m             \u001b[0;32mif\u001b[0m \u001b[0ms\u001b[0m\u001b[0;34m.\u001b[0m\u001b[0mstartswith\u001b[0m\u001b[0;34m(\u001b[0m\u001b[0;34m'org.apache.spark.sql.AnalysisException: '\u001b[0m\u001b[0;34m)\u001b[0m\u001b[0;34m:\u001b[0m\u001b[0;34m\u001b[0m\u001b[0;34m\u001b[0m\u001b[0m\n\u001b[0;32m---> 69\u001b[0;31m                 \u001b[0;32mraise\u001b[0m \u001b[0mAnalysisException\u001b[0m\u001b[0;34m(\u001b[0m\u001b[0ms\u001b[0m\u001b[0;34m.\u001b[0m\u001b[0msplit\u001b[0m\u001b[0;34m(\u001b[0m\u001b[0;34m': '\u001b[0m\u001b[0;34m,\u001b[0m \u001b[0;36m1\u001b[0m\u001b[0;34m)\u001b[0m\u001b[0;34m[\u001b[0m\u001b[0;36m1\u001b[0m\u001b[0;34m]\u001b[0m\u001b[0;34m,\u001b[0m \u001b[0mstackTrace\u001b[0m\u001b[0;34m)\u001b[0m\u001b[0;34m\u001b[0m\u001b[0;34m\u001b[0m\u001b[0m\n\u001b[0m\u001b[1;32m     70\u001b[0m             \u001b[0;32mif\u001b[0m \u001b[0ms\u001b[0m\u001b[0;34m.\u001b[0m\u001b[0mstartswith\u001b[0m\u001b[0;34m(\u001b[0m\u001b[0;34m'org.apache.spark.sql.catalyst.analysis'\u001b[0m\u001b[0;34m)\u001b[0m\u001b[0;34m:\u001b[0m\u001b[0;34m\u001b[0m\u001b[0;34m\u001b[0m\u001b[0m\n\u001b[1;32m     71\u001b[0m                 \u001b[0;32mraise\u001b[0m \u001b[0mAnalysisException\u001b[0m\u001b[0;34m(\u001b[0m\u001b[0ms\u001b[0m\u001b[0;34m.\u001b[0m\u001b[0msplit\u001b[0m\u001b[0;34m(\u001b[0m\u001b[0;34m': '\u001b[0m\u001b[0;34m,\u001b[0m \u001b[0;36m1\u001b[0m\u001b[0;34m)\u001b[0m\u001b[0;34m[\u001b[0m\u001b[0;36m1\u001b[0m\u001b[0;34m]\u001b[0m\u001b[0;34m,\u001b[0m \u001b[0mstackTrace\u001b[0m\u001b[0;34m)\u001b[0m\u001b[0;34m\u001b[0m\u001b[0;34m\u001b[0m\u001b[0m\n",
      "\u001b[0;31mAnalysisException\u001b[0m: 'Resolved attribute(s) prediction#177523 missing from label#127153,days_using_service#55974,avr_songs_per_sessions#55966,sessions#55972L,total_length_streamed#55968,errors#55948L,locations#55978L,thumb_downs#55946L,probability#132122,upgrades#55962L,rawPrediction#132098,userId#51839,support_enquiries#55950L,user_agents#55976L,prediction#132147,female#55942,last_level_paid#55954,playlists#55958L,songs#55964L,NumFeatures#132053,referrals#55956L,thumb_ups#55944L,downgrades#55960L,features#132075,artists#55970L in operator !Filter ((prediction#177523 = 0.0) && (label#127153 = 0)). Attribute(s) with the same name appear in the operation: prediction. Please check if the right attribute(s) are used.;;\\n!Filter ((prediction#177523 = 0.0) && (label#127153 = 0))\\n+- Project [userId#51839, female#55942, thumb_ups#55944L, thumb_downs#55946L, errors#55948L, support_enquiries#55950L, label#127153, last_level_paid#55954, referrals#55956L, playlists#55958L, downgrades#55960L, upgrades#55962L, songs#55964L, avr_songs_per_sessions#55966, total_length_streamed#55968, artists#55970L, sessions#55972L, days_using_service#55974, user_agents#55976L, locations#55978L, NumFeatures#132053, features#132075, rawPrediction#132098, probability#132122, UDF(rawPrediction#132098) AS prediction#132147]\\n   +- Project [userId#51839, female#55942, thumb_ups#55944L, thumb_downs#55946L, errors#55948L, support_enquiries#55950L, label#127153, last_level_paid#55954, referrals#55956L, playlists#55958L, downgrades#55960L, upgrades#55962L, songs#55964L, avr_songs_per_sessions#55966, total_length_streamed#55968, artists#55970L, sessions#55972L, days_using_service#55974, user_agents#55976L, locations#55978L, NumFeatures#132053, features#132075, rawPrediction#132098, UDF(rawPrediction#132098) AS probability#132122]\\n      +- Project [userId#51839, female#55942, thumb_ups#55944L, thumb_downs#55946L, errors#55948L, support_enquiries#55950L, label#127153, last_level_paid#55954, referrals#55956L, playlists#55958L, downgrades#55960L, upgrades#55962L, songs#55964L, avr_songs_per_sessions#55966, total_length_streamed#55968, artists#55970L, sessions#55972L, days_using_service#55974, user_agents#55976L, locations#55978L, NumFeatures#132053, features#132075, UDF(features#132075) AS rawPrediction#132098]\\n         +- Project [userId#51839, female#55942, thumb_ups#55944L, thumb_downs#55946L, errors#55948L, support_enquiries#55950L, label#127153, last_level_paid#55954, referrals#55956L, playlists#55958L, downgrades#55960L, upgrades#55962L, songs#55964L, avr_songs_per_sessions#55966, total_length_streamed#55968, artists#55970L, sessions#55972L, days_using_service#55974, user_agents#55976L, locations#55978L, NumFeatures#132053, UDF(NumFeatures#132053) AS features#132075]\\n            +- Project [userId#51839, female#55942, thumb_ups#55944L, thumb_downs#55946L, errors#55948L, support_enquiries#55950L, label#127153, last_level_paid#55954, referrals#55956L, playlists#55958L, downgrades#55960L, upgrades#55962L, songs#55964L, avr_songs_per_sessions#55966, total_length_streamed#55968, artists#55970L, sessions#55972L, days_using_service#55974, user_agents#55976L, locations#55978L, UDF(named_struct(female_double_VectorAssembler_36545c496291, cast(female#55942 as double), thumb_ups_double_VectorAssembler_36545c496291, cast(thumb_ups#55944L as double), thumb_downs_double_VectorAssembler_36545c496291, cast(thumb_downs#55946L as double), errors_double_VectorAssembler_36545c496291, cast(errors#55948L as double), support_enquiries_double_VectorAssembler_36545c496291, cast(support_enquiries#55950L as double), last_level_paid_double_VectorAssembler_36545c496291, cast(last_level_paid#55954 as double), referrals_double_VectorAssembler_36545c496291, cast(referrals#55956L as double), playlists_double_VectorAssembler_36545c496291, cast(playlists#55958L as double), downgrades_double_VectorAssembler_36545c496291, cast(downgrades#55960L as double), upgrades_double_VectorAssembler_36545c496291, cast(upgrades#55962L as double), songs_double_VectorAssembler_36545c496291, cast(songs#55964L as double), songs_double_VectorAssembler_36545c496291, cast(songs#55964L as double), ... 14 more fields)) AS NumFeatures#132053]\\n               +- Sample 0.0, 0.5, false, 123\\n                  +- Sort [userId#51839 ASC NULLS FIRST, female#55942 ASC NULLS FIRST, thumb_ups#55944L ASC NULLS FIRST, thumb_downs#55946L ASC NULLS FIRST, errors#55948L ASC NULLS FIRST, support_enquiries#55950L ASC NULLS FIRST, label#127153 ASC NULLS FIRST, last_level_paid#55954 ASC NULLS FIRST, referrals#55956L ASC NULLS FIRST, playlists#55958L ASC NULLS FIRST, downgrades#55960L ASC NULLS FIRST, upgrades#55962L ASC NULLS FIRST, songs#55964L ASC NULLS FIRST, avr_songs_per_sessions#55966 ASC NULLS FIRST, total_length_streamed#55968 ASC NULLS FIRST, artists#55970L ASC NULLS FIRST, sessions#55972L ASC NULLS FIRST, days_using_service#55974 ASC NULLS FIRST, user_agents#55976L ASC NULLS FIRST, locations#55978L ASC NULLS FIRST], false\\n                     +- Sample 0.8, 1.0, false, 123\\n                        +- Sort [userId#51839 ASC NULLS FIRST, female#55942 ASC NULLS FIRST, thumb_ups#55944L ASC NULLS FIRST, thumb_downs#55946L ASC NULLS FIRST, errors#55948L ASC NULLS FIRST, support_enquiries#55950L ASC NULLS FIRST, label#127153 ASC NULLS FIRST, last_level_paid#55954 ASC NULLS FIRST, referrals#55956L ASC NULLS FIRST, playlists#55958L ASC NULLS FIRST, downgrades#55960L ASC NULLS FIRST, upgrades#55962L ASC NULLS FIRST, songs#55964L ASC NULLS FIRST, avr_songs_per_sessions#55966 ASC NULLS FIRST, total_length_streamed#55968 ASC NULLS FIRST, artists#55970L ASC NULLS FIRST, sessions#55972L ASC NULLS FIRST, days_using_service#55974 ASC NULLS FIRST, user_agents#55976L ASC NULLS FIRST, locations#55978L ASC NULLS FIRST], false\\n                           +- Project [userId#51839, female#55942, thumb_ups#55944L, thumb_downs#55946L, errors#55948L, support_enquiries#55950L, churn#55952 AS label#127153, last_level_paid#55954, referrals#55956L, playlists#55958L, downgrades#55960L, upgrades#55962L, songs#55964L, avr_songs_per_sessions#55966, total_length_streamed#55968, artists#55970L, sessions#55972L, days_using_service#55974, user_agents#55976L, locations#55978L]\\n                              +- Aggregate [userId#51839], [userId#51839, max(female#53364) AS female#55942, sum(cast(CASE WHEN (page#51832 = Thumbs Up) THEN 1 ELSE 0 END as bigint)) AS thumb_ups#55944L, sum(cast(CASE WHEN (page#51832 = Thumbs Down) THEN 1 ELSE 0 END as bigint)) AS thumb_downs#55946L, sum(cast(CASE WHEN (page#51832 = Error) THEN 1 ELSE 0 END as bigint)) AS errors#55948L, sum(cast(CASE WHEN (page#51832 = Help) THEN 1 ELSE 0 END as bigint)) AS support_enquiries#55950L, max(churn#53231) AS churn#55952, max(last_level_paid#53442) AS last_level_paid#55954, sum(cast(CASE WHEN (page#51832 = Add Firend) THEN 1 ELSE 0 END as bigint)) AS referrals#55956L, sum(cast(CASE WHEN (page#51832 = Add to Playlist) THEN 1 ELSE 0 END as bigint)) AS playlists#55958L, sum(cast(CASE WHEN (page#51832 = Submit Downgrade) THEN 1 ELSE 0 END as bigint)) AS downgrades#55960L, sum(cast(CASE WHEN (page#51832 = Submit Upgrade) THEN 1 ELSE 0 END as bigint)) AS upgrades#55962L, sum(cast(CASE WHEN (page#51832 = NextSong) THEN 1 ELSE 0 END as bigint)) AS songs#55964L, avg(itemInSession#51826L) AS avr_songs_per_sessions#55966, sum(length#51828) AS total_length_streamed#55968, count(distinct Artist#51822) AS artists#55970L, count(distinct sessionId#51834L) AS sessions#55972L, first(days_using_service#53414, false) AS days_using_service#55974, count(distinct userAgent#51838) AS user_agents#55976L, count(distinct location#51830) AS locations#55978L]\\n                                 +- Project [artist#51822, auth#51823, firstName#51824, gender#51825, itemInSession#51826L, lastName#51827, length#51828, level#51829, location#51830, method#51831, page#51832, registration#51833L, sessionId#51834L, song#51835, status#51836L, ts#51837L, userAgent#51838, userId#51839, registered#53082, timestamp#53110, churn#53231, female#53364, paid_plan#53388, days_using_service#53414, last_level_paid#53442]\\n                                    +- Project [artist#51822, auth#51823, firstName#51824, gender#51825, itemInSession#51826L, lastName#51827, length#51828, level#51829, location#51830, method#51831, page#51832, registration#51833L, sessionId#51834L, song#51835, status#51836L, ts#51837L, userAgent#51838, userId#51839, registered#53082, timestamp#53110, churn#53231, female#53364, paid_plan#53388, days_using_service#53414, ... 2 more fields]\\n                                       +- Window [last(paid_plan#53388, false) windowspecdefinition(userID#51839, timestamp#53110 DESC NULLS LAST, specifiedwindowframe(RangeFrame, unboundedpreceding$(), unboundedfollowing$())) AS last_level_paid#53442], [userID#51839], [timestamp#53110 DESC NULLS LAST]\\n                                          +- Project [artist#51822, auth#51823, firstName#51824, gender#51825, itemInSession#51826L, lastName#51827, length#51828, level#51829, location#51830, method#51831, page#51832, registration#51833L, sessionId#51834L, song#51835, status#51836L, ts#51837L, userAgent#51838, userId#51839, registered#53082, timestamp#53110, churn#53231, female#53364, paid_plan#53388, days_using_service#53414]\\n                                             +- Project [artist#51822, auth#51823, firstName#51824, gender#51825, itemInSession#51826L, lastName#51827, length#51828, level#51829, location#51830, method#51831, page#51832, registration#51833L, sessionId#51834L, song#51835, status#51836L, ts#51837L, userAgent#51838, userId#51839, registered#53082, timestamp#53110, churn#53231, female#53364, paid_plan#53388, days_using_service#53414]\\n                                                +- Project [artist#51822, auth#51823, firstName#51824, gender#51825, itemInSession#51826L, lastName#51827, length#51828, level#51829, location#51830, method#51831, page#51832, registration#51833L, sessionId#51834L, song#51835, status#51836L, ts#51837L, userAgent#51838, userId#51839, registered#53082, timestamp#53110, churn#53231, female#53364, paid_plan#53388, _we0#53415, ... 2 more fields]\\n                                                   +- Window [first(timestamp#53110, false) windowspecdefinition(userID#51839, timestamp#53110 DESC NULLS LAST, specifiedwindowframe(RangeFrame, unboundedpreceding$(), unboundedfollowing$())) AS _we0#53415, last(timestamp#53110, false) windowspecdefinition(userID#51839, timestamp#53110 DESC NULLS LAST, specifiedwindowframe(RangeFrame, unboundedpreceding$(), unboundedfollowing$())) AS _we1#53416], [userID#51839], [timestamp#53110 DESC NULLS LAST]\\n                                                      +- Project [artist#51822, auth#51823, firstName#51824, gender#51825, itemInSession#51826L, lastName#51827, length#51828, level#51829, location#51830, method#51831, page#51832, registration#51833L, sessionId#51834L, song#51835, status#51836L, ts#51837L, userAgent#51838, userId#51839, registered#53082, timestamp#53110, churn#53231, female#53364, paid_plan#53388]\\n                                                         +- Project [artist#51822, auth#51823, firstName#51824, gender#51825, itemInSession#51826L, lastName#51827, length#51828, level#51829, location#51830, method#51831, page#51832, registration#51833L, sessionId#51834L, song#51835, status#51836L, ts#51837L, userAgent#51838, userId#51839, registered#53082, timestamp#53110, churn#53231, female#53364, <lambda>(level#51829) AS paid_plan#53388]\\n                                                            +- Project [artist#51822, auth#51823, firstName#51824, gender#51825, itemInSession#51826L, lastName#51827, length#51828, level#51829, location#51830, method#51831, page#51832, registration#51833L, sessionId#51834L, song#51835, status#51836L, ts#51837L, userAgent#51838, userId#51839, registered#53082, timestamp#53110, churn#53231, <lambda>(gender#51825) AS female#53364]\\n                                                               +- Project [artist#51822, auth#51823, firstName#51824, gender#51825, itemInSession#51826L, lastName#51827, length#51828, level#51829, location#51830, method#51831, page#51832, registration#51833L, sessionId#51834L, song#51835, status#51836L, ts#51837L, userAgent#51838, userId#51839, registered#53082, timestamp#53110, <lambda>(page#51832) AS churn#53231]\\n                                                                  +- Project [artist#51822, auth#51823, firstName#51824, gender#51825, itemInSession#51826L, lastName#51827, length#51828, level#51829, location#51830, method#51831, page#51832, registration#51833L, sessionId#51834L, song#51835, status#51836L, ts#51837L, userAgent#51838, userId#51839, registered#53082, cast((cast(ts#51837L as double) / cast(1000 as double)) as timestamp) AS timestamp#53110]\\n                                                                     +- Project [artist#51822, auth#51823, firstName#51824, gender#51825, itemInSession#51826L, lastName#51827, length#51828, level#51829, location#51830, method#51831, page#51832, registration#51833L, sessionId#51834L, song#51835, status#51836L, ts#51837L, userAgent#51838, userId#51839, cast((cast(registration#51833L as double) / cast(1000 as double)) as timestamp) AS registered#53082]\\n                                                                        +- Filter NOT (userId#51839 = )\\n                                                                           +- Filter AtLeastNNulls(n, userId#51839,sessionId#51834L)\\n                                                                              +- Relation[artist#51822,auth#51823,firstName#51824,gender#51825,itemInSession#51826L,lastName#51827,length#51828,level#51829,location#51830,method#51831,page#51832,registration#51833L,sessionId#51834L,song#51835,status#51836L,ts#51837L,userAgent#51838,userId#51839] json\\n'"
     ]
    }
   ],
   "source": [
    "# Evaluate \n",
    "evaluate_pipeline(dtc_results)"
   ]
  },
  {
   "cell_type": "markdown",
   "metadata": {},
   "source": [
    "### Random Forest Classifier"
   ]
  },
  {
   "cell_type": "code",
   "execution_count": null,
   "metadata": {},
   "outputs": [],
   "source": [
    "# Build pipeline \n",
    "\n",
    "# Classifier\n",
    "rfc = RandomForrestClassifier"
   ]
  },
  {
   "cell_type": "markdown",
   "metadata": {},
   "source": [
    "# Final Steps\n",
    "Clean up your code, adding comments and renaming variables to make the code easier to read and maintain. Refer to the Spark Project Overview page and Data Scientist Capstone Project Rubric to make sure you are including all components of the capstone project and meet all expectations. Remember, this includes thorough documentation in a README file in a Github repository, as well as a web app or blog post."
   ]
  },
  {
   "cell_type": "code",
   "execution_count": null,
   "metadata": {},
   "outputs": [],
   "source": []
  }
 ],
 "metadata": {
  "kernelspec": {
   "display_name": "Python 3",
   "language": "python",
   "name": "python3"
  },
  "language_info": {
   "codemirror_mode": {
    "name": "ipython",
    "version": 3
   },
   "file_extension": ".py",
   "mimetype": "text/x-python",
   "name": "python",
   "nbconvert_exporter": "python",
   "pygments_lexer": "ipython3",
   "version": "3.6.10"
  }
 },
 "nbformat": 4,
 "nbformat_minor": 2
}
